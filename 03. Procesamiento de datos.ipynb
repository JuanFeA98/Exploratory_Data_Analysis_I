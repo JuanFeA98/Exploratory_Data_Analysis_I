{
 "cells": [
  {
   "cell_type": "markdown",
   "metadata": {},
   "source": [
    "## Librerias"
   ]
  },
  {
   "cell_type": "code",
   "execution_count": 1,
   "metadata": {},
   "outputs": [],
   "source": [
    "import pandas as pd\n",
    "import numpy as np\n",
    "import matplotlib.pyplot as plt\n",
    "import seaborn as sns"
   ]
  },
  {
   "cell_type": "code",
   "execution_count": 25,
   "metadata": {},
   "outputs": [],
   "source": [
    "import altair as alt"
   ]
  },
  {
   "cell_type": "markdown",
   "metadata": {},
   "source": [
    "## Datos"
   ]
  },
  {
   "cell_type": "code",
   "execution_count": 3,
   "metadata": {},
   "outputs": [],
   "source": [
    "df = pd.read_csv('Data/chicago.csv')"
   ]
  },
  {
   "cell_type": "code",
   "execution_count": 8,
   "metadata": {},
   "outputs": [
    {
     "name": "stdout",
     "output_type": "stream",
     "text": [
      "<class 'pandas.core.frame.DataFrame'>\n",
      "RangeIndex: 27961 entries, 0 to 27960\n",
      "Data columns (total 52 columns):\n",
      " #   Column                         Non-Null Count  Dtype         \n",
      "---  ------                         --------------  -----         \n",
      " 0   Unnamed: 0                     27961 non-null  int64         \n",
      " 1   Unnamed: 0.1                   27961 non-null  int64         \n",
      " 2   CRASH_RECORD_ID                27961 non-null  object        \n",
      " 3   RD_NO                          27713 non-null  object        \n",
      " 4   CRASH_DATE_EST_I               2117 non-null   object        \n",
      " 5   CRASH_DATE                     27961 non-null  datetime64[ns]\n",
      " 6   POSTED_SPEED_LIMIT             27961 non-null  int64         \n",
      " 7   TRAFFIC_CONTROL_DEVICE         27961 non-null  object        \n",
      " 8   DEVICE_CONDITION               27961 non-null  object        \n",
      " 9   WEATHER_CONDITION              27961 non-null  object        \n",
      " 10  LIGHTING_CONDITION             27961 non-null  object        \n",
      " 11  FIRST_CRASH_TYPE               27961 non-null  object        \n",
      " 12  TRAFFICWAY_TYPE                27961 non-null  object        \n",
      " 13  LANE_CNT                       12418 non-null  float64       \n",
      " 14  ALIGNMENT                      27961 non-null  object        \n",
      " 15  ROADWAY_SURFACE_COND           27961 non-null  object        \n",
      " 16  ROAD_DEFECT                    27961 non-null  object        \n",
      " 17  REPORT_TYPE                    27294 non-null  object        \n",
      " 18  CRASH_TYPE                     27961 non-null  object        \n",
      " 19  INTERSECTION_RELATED_I         6155 non-null   object        \n",
      " 20  NOT_RIGHT_OF_WAY_I             1356 non-null   object        \n",
      " 21  HIT_AND_RUN_I                  7952 non-null   object        \n",
      " 22  DAMAGE                         27961 non-null  object        \n",
      " 23  DATE_POLICE_NOTIFIED           27961 non-null  object        \n",
      " 24  PRIM_CONTRIBUTORY_CAUSE        27961 non-null  object        \n",
      " 25  SEC_CONTRIBUTORY_CAUSE         27961 non-null  object        \n",
      " 26  STREET_NO                      27961 non-null  int64         \n",
      " 27  STREET_DIRECTION               27960 non-null  object        \n",
      " 28  STREET_NAME                    27961 non-null  object        \n",
      " 29  BEAT_OF_OCCURRENCE             27960 non-null  float64       \n",
      " 30  PHOTOS_TAKEN_I                 341 non-null    object        \n",
      " 31  STATEMENTS_TAKEN_I             564 non-null    object        \n",
      " 32  DOORING_I                      99 non-null     object        \n",
      " 33  WORK_ZONE_I                    158 non-null    object        \n",
      " 34  WORK_ZONE_TYPE                 125 non-null    object        \n",
      " 35  WORKERS_PRESENT_I              41 non-null     object        \n",
      " 36  NUM_UNITS                      27961 non-null  int64         \n",
      " 37  MOST_SEVERE_INJURY             27908 non-null  object        \n",
      " 38  INJURIES_TOTAL                 27910 non-null  float64       \n",
      " 39  INJURIES_FATAL                 27910 non-null  float64       \n",
      " 40  INJURIES_INCAPACITATING        27910 non-null  float64       \n",
      " 41  INJURIES_NON_INCAPACITATING    27910 non-null  float64       \n",
      " 42  INJURIES_REPORTED_NOT_EVIDENT  27910 non-null  float64       \n",
      " 43  INJURIES_NO_INDICATION         27910 non-null  float64       \n",
      " 44  INJURIES_UNKNOWN               27910 non-null  float64       \n",
      " 45  CRASH_HOUR                     27961 non-null  int64         \n",
      " 46  CRASH_DAY_OF_WEEK              27961 non-null  int64         \n",
      " 47  CRASH_MONTH                    27961 non-null  int64         \n",
      " 48  LATITUDE                       27800 non-null  float64       \n",
      " 49  LONGITUDE                      27800 non-null  float64       \n",
      " 50  LOCATION                       27800 non-null  object        \n",
      " 51  date_real                      27961 non-null  object        \n",
      "dtypes: datetime64[ns](1), float64(11), int64(8), object(32)\n",
      "memory usage: 11.1+ MB\n"
     ]
    }
   ],
   "source": [
    "df.info()"
   ]
  },
  {
   "cell_type": "code",
   "execution_count": 6,
   "metadata": {},
   "outputs": [],
   "source": [
    "df.CRASH_DATE = df.CRASH_DATE.apply(lambda x: pd.to_datetime(x))"
   ]
  },
  {
   "cell_type": "code",
   "execution_count": 23,
   "metadata": {},
   "outputs": [],
   "source": [
    "report_1 = df.groupby(['LIGHTING_CONDITION', 'REPORT_TYPE']).agg({'NUM_UNITS':'sum'}).reset_index()"
   ]
  },
  {
   "cell_type": "code",
   "execution_count": 36,
   "metadata": {},
   "outputs": [
    {
     "data": {
      "text/html": [
       "\n",
       "<div id=\"altair-viz-83481b3b855d4696a9ff340a2632ea9c\"></div>\n",
       "<script type=\"text/javascript\">\n",
       "  (function(spec, embedOpt){\n",
       "    let outputDiv = document.currentScript.previousElementSibling;\n",
       "    if (outputDiv.id !== \"altair-viz-83481b3b855d4696a9ff340a2632ea9c\") {\n",
       "      outputDiv = document.getElementById(\"altair-viz-83481b3b855d4696a9ff340a2632ea9c\");\n",
       "    }\n",
       "    const paths = {\n",
       "      \"vega\": \"https://cdn.jsdelivr.net/npm//vega@5?noext\",\n",
       "      \"vega-lib\": \"https://cdn.jsdelivr.net/npm//vega-lib?noext\",\n",
       "      \"vega-lite\": \"https://cdn.jsdelivr.net/npm//vega-lite@4.8.1?noext\",\n",
       "      \"vega-embed\": \"https://cdn.jsdelivr.net/npm//vega-embed@6?noext\",\n",
       "    };\n",
       "\n",
       "    function loadScript(lib) {\n",
       "      return new Promise(function(resolve, reject) {\n",
       "        var s = document.createElement('script');\n",
       "        s.src = paths[lib];\n",
       "        s.async = true;\n",
       "        s.onload = () => resolve(paths[lib]);\n",
       "        s.onerror = () => reject(`Error loading script: ${paths[lib]}`);\n",
       "        document.getElementsByTagName(\"head\")[0].appendChild(s);\n",
       "      });\n",
       "    }\n",
       "\n",
       "    function showError(err) {\n",
       "      outputDiv.innerHTML = `<div class=\"error\" style=\"color:red;\">${err}</div>`;\n",
       "      throw err;\n",
       "    }\n",
       "\n",
       "    function displayChart(vegaEmbed) {\n",
       "      vegaEmbed(outputDiv, spec, embedOpt)\n",
       "        .catch(err => showError(`Javascript Error: ${err.message}<br>This usually means there's a typo in your chart specification. See the javascript console for the full traceback.`));\n",
       "    }\n",
       "\n",
       "    if(typeof define === \"function\" && define.amd) {\n",
       "      requirejs.config({paths});\n",
       "      require([\"vega-embed\"], displayChart, err => showError(`Error loading script: ${err.message}`));\n",
       "    } else if (typeof vegaEmbed === \"function\") {\n",
       "      displayChart(vegaEmbed);\n",
       "    } else {\n",
       "      loadScript(\"vega\")\n",
       "        .then(() => loadScript(\"vega-lite\"))\n",
       "        .then(() => loadScript(\"vega-embed\"))\n",
       "        .catch(showError)\n",
       "        .then(() => displayChart(vegaEmbed));\n",
       "    }\n",
       "  })({\"config\": {\"view\": {\"continuousWidth\": 400, \"continuousHeight\": 300}}, \"data\": {\"name\": \"data-9d00f5e1a40dfff147fbf7235a1209c9\"}, \"mark\": \"bar\", \"encoding\": {\"color\": {\"type\": \"nominal\", \"field\": \"REPORT_TYPE\"}, \"x\": {\"type\": \"nominal\", \"field\": \"LIGHTING_CONDITION\"}, \"y\": {\"type\": \"quantitative\", \"field\": \"NUM_UNITS\"}}, \"height\": 300, \"title\": \"Comportamiento de los choques por la condici\\u00f3n de luz\", \"width\": 320, \"$schema\": \"https://vega.github.io/schema/vega-lite/v4.8.1.json\", \"datasets\": {\"data-9d00f5e1a40dfff147fbf7235a1209c9\": [{\"LIGHTING_CONDITION\": \"DARKNESS\", \"REPORT_TYPE\": \"AMENDED\", \"NUM_UNITS\": 2}, {\"LIGHTING_CONDITION\": \"DARKNESS\", \"REPORT_TYPE\": \"NOT ON SCENE (DESK REPORT)\", \"NUM_UNITS\": 1822}, {\"LIGHTING_CONDITION\": \"DARKNESS\", \"REPORT_TYPE\": \"ON SCENE\", \"NUM_UNITS\": 1058}, {\"LIGHTING_CONDITION\": \"DARKNESS, LIGHTED ROAD\", \"REPORT_TYPE\": \"AMENDED\", \"NUM_UNITS\": 5}, {\"LIGHTING_CONDITION\": \"DARKNESS, LIGHTED ROAD\", \"REPORT_TYPE\": \"NOT ON SCENE (DESK REPORT)\", \"NUM_UNITS\": 5380}, {\"LIGHTING_CONDITION\": \"DARKNESS, LIGHTED ROAD\", \"REPORT_TYPE\": \"ON SCENE\", \"NUM_UNITS\": 6331}, {\"LIGHTING_CONDITION\": \"DAWN\", \"REPORT_TYPE\": \"NOT ON SCENE (DESK REPORT)\", \"NUM_UNITS\": 495}, {\"LIGHTING_CONDITION\": \"DAWN\", \"REPORT_TYPE\": \"ON SCENE\", \"NUM_UNITS\": 450}, {\"LIGHTING_CONDITION\": \"DAYLIGHT\", \"REPORT_TYPE\": \"AMENDED\", \"NUM_UNITS\": 28}, {\"LIGHTING_CONDITION\": \"DAYLIGHT\", \"REPORT_TYPE\": \"NOT ON SCENE (DESK REPORT)\", \"NUM_UNITS\": 22277}, {\"LIGHTING_CONDITION\": \"DAYLIGHT\", \"REPORT_TYPE\": \"ON SCENE\", \"NUM_UNITS\": 13953}, {\"LIGHTING_CONDITION\": \"DUSK\", \"REPORT_TYPE\": \"AMENDED\", \"NUM_UNITS\": 5}, {\"LIGHTING_CONDITION\": \"DUSK\", \"REPORT_TYPE\": \"NOT ON SCENE (DESK REPORT)\", \"NUM_UNITS\": 975}, {\"LIGHTING_CONDITION\": \"DUSK\", \"REPORT_TYPE\": \"ON SCENE\", \"NUM_UNITS\": 689}, {\"LIGHTING_CONDITION\": \"UNKNOWN\", \"REPORT_TYPE\": \"NOT ON SCENE (DESK REPORT)\", \"NUM_UNITS\": 1527}, {\"LIGHTING_CONDITION\": \"UNKNOWN\", \"REPORT_TYPE\": \"ON SCENE\", \"NUM_UNITS\": 390}]}}, {\"mode\": \"vega-lite\"});\n",
       "</script>"
      ],
      "text/plain": [
       "alt.Chart(...)"
      ]
     },
     "execution_count": 36,
     "metadata": {},
     "output_type": "execute_result"
    }
   ],
   "source": [
    "alt.Chart(report_1).mark_bar().encode(\n",
    "    x = 'LIGHTING_CONDITION',\n",
    "    y = 'NUM_UNITS',\n",
    "    color = 'REPORT_TYPE'\n",
    ").properties(width=320, height=300, title='Comportamiento de los choques por la condición de luz')"
   ]
  },
  {
   "cell_type": "code",
   "execution_count": null,
   "metadata": {},
   "outputs": [],
   "source": []
  },
  {
   "cell_type": "code",
   "execution_count": null,
   "metadata": {},
   "outputs": [],
   "source": []
  },
  {
   "cell_type": "code",
   "execution_count": null,
   "metadata": {},
   "outputs": [],
   "source": []
  }
 ],
 "metadata": {
  "kernelspec": {
   "display_name": "Python 3",
   "language": "python",
   "name": "python3"
  },
  "language_info": {
   "codemirror_mode": {
    "name": "ipython",
    "version": 3
   },
   "file_extension": ".py",
   "mimetype": "text/x-python",
   "name": "python",
   "nbconvert_exporter": "python",
   "pygments_lexer": "ipython3",
   "version": "3.8.5"
  }
 },
 "nbformat": 4,
 "nbformat_minor": 4
}
