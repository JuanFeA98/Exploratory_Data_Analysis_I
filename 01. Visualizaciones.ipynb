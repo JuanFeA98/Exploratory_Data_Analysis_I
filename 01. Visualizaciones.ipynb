{
 "cells": [
  {
   "cell_type": "markdown",
   "metadata": {
    "ExecuteTime": {
     "end_time": "2021-06-06T04:03:06.645508Z",
     "start_time": "2021-06-06T04:03:06.632803Z"
    }
   },
   "source": [
    "## Librerias"
   ]
  },
  {
   "cell_type": "markdown",
   "metadata": {},
   "source": [
    "### Starter Pack"
   ]
  },
  {
   "cell_type": "code",
   "execution_count": 20,
   "metadata": {
    "ExecuteTime": {
     "end_time": "2021-06-06T22:09:14.749346Z",
     "start_time": "2021-06-06T22:09:14.727298Z"
    }
   },
   "outputs": [],
   "source": [
    "import pandas as pd\n",
    "import numpy as np\n",
    "import matplotlib.pyplot as plt\n",
    "import seaborn as sns"
   ]
  },
  {
   "cell_type": "markdown",
   "metadata": {},
   "source": [
    "### Intermedia Pack"
   ]
  },
  {
   "cell_type": "code",
   "execution_count": 44,
   "metadata": {
    "ExecuteTime": {
     "end_time": "2021-06-06T16:01:37.182616Z",
     "start_time": "2021-06-06T16:01:36.800078Z"
    }
   },
   "outputs": [],
   "source": [
    "import altair as alt"
   ]
  },
  {
   "cell_type": "code",
   "execution_count": 2,
   "metadata": {
    "ExecuteTime": {
     "end_time": "2021-06-06T21:47:42.491029Z",
     "start_time": "2021-06-06T21:47:41.967465Z"
    }
   },
   "outputs": [],
   "source": [
    "import plotly.express as px"
   ]
  },
  {
   "cell_type": "code",
   "execution_count": 4,
   "metadata": {
    "ExecuteTime": {
     "end_time": "2021-06-06T21:49:26.117636Z",
     "start_time": "2021-06-06T21:49:26.093344Z"
    }
   },
   "outputs": [],
   "source": [
    "pd.options.display.float_format = '{:,.2f}'.format"
   ]
  },
  {
   "cell_type": "markdown",
   "metadata": {},
   "source": [
    "## Datos"
   ]
  },
  {
   "cell_type": "code",
   "execution_count": 5,
   "metadata": {
    "ExecuteTime": {
     "end_time": "2021-06-06T21:49:27.644631Z",
     "start_time": "2021-06-06T21:49:27.590066Z"
    }
   },
   "outputs": [],
   "source": [
    "df = pd.read_csv('zoo.data')"
   ]
  },
  {
   "cell_type": "code",
   "execution_count": 6,
   "metadata": {
    "ExecuteTime": {
     "end_time": "2021-06-06T21:49:28.632120Z",
     "start_time": "2021-06-06T21:49:28.561270Z"
    }
   },
   "outputs": [
    {
     "data": {
      "text/html": [
       "<div>\n",
       "<style scoped>\n",
       "    .dataframe tbody tr th:only-of-type {\n",
       "        vertical-align: middle;\n",
       "    }\n",
       "\n",
       "    .dataframe tbody tr th {\n",
       "        vertical-align: top;\n",
       "    }\n",
       "\n",
       "    .dataframe thead th {\n",
       "        text-align: right;\n",
       "    }\n",
       "</style>\n",
       "<table border=\"1\" class=\"dataframe\">\n",
       "  <thead>\n",
       "    <tr style=\"text-align: right;\">\n",
       "      <th></th>\n",
       "      <th>aardvark</th>\n",
       "      <th>1</th>\n",
       "      <th>0</th>\n",
       "      <th>0.1</th>\n",
       "      <th>1.1</th>\n",
       "      <th>0.2</th>\n",
       "      <th>0.3</th>\n",
       "      <th>1.2</th>\n",
       "      <th>1.3</th>\n",
       "      <th>1.4</th>\n",
       "      <th>1.5</th>\n",
       "      <th>0.4</th>\n",
       "      <th>0.5</th>\n",
       "      <th>4</th>\n",
       "      <th>0.6</th>\n",
       "      <th>0.7</th>\n",
       "      <th>1.6</th>\n",
       "      <th>1.7</th>\n",
       "    </tr>\n",
       "  </thead>\n",
       "  <tbody>\n",
       "    <tr>\n",
       "      <th>70</th>\n",
       "      <td>rhea</td>\n",
       "      <td>0</td>\n",
       "      <td>1</td>\n",
       "      <td>1</td>\n",
       "      <td>0</td>\n",
       "      <td>0</td>\n",
       "      <td>0</td>\n",
       "      <td>1</td>\n",
       "      <td>0</td>\n",
       "      <td>1</td>\n",
       "      <td>1</td>\n",
       "      <td>0</td>\n",
       "      <td>0</td>\n",
       "      <td>2</td>\n",
       "      <td>1</td>\n",
       "      <td>0</td>\n",
       "      <td>1</td>\n",
       "      <td>2</td>\n",
       "    </tr>\n",
       "    <tr>\n",
       "      <th>24</th>\n",
       "      <td>frog</td>\n",
       "      <td>0</td>\n",
       "      <td>0</td>\n",
       "      <td>1</td>\n",
       "      <td>0</td>\n",
       "      <td>0</td>\n",
       "      <td>1</td>\n",
       "      <td>1</td>\n",
       "      <td>1</td>\n",
       "      <td>1</td>\n",
       "      <td>1</td>\n",
       "      <td>0</td>\n",
       "      <td>0</td>\n",
       "      <td>4</td>\n",
       "      <td>0</td>\n",
       "      <td>0</td>\n",
       "      <td>0</td>\n",
       "      <td>5</td>\n",
       "    </tr>\n",
       "    <tr>\n",
       "      <th>40</th>\n",
       "      <td>kiwi</td>\n",
       "      <td>0</td>\n",
       "      <td>1</td>\n",
       "      <td>1</td>\n",
       "      <td>0</td>\n",
       "      <td>0</td>\n",
       "      <td>0</td>\n",
       "      <td>1</td>\n",
       "      <td>0</td>\n",
       "      <td>1</td>\n",
       "      <td>1</td>\n",
       "      <td>0</td>\n",
       "      <td>0</td>\n",
       "      <td>2</td>\n",
       "      <td>1</td>\n",
       "      <td>0</td>\n",
       "      <td>0</td>\n",
       "      <td>2</td>\n",
       "    </tr>\n",
       "  </tbody>\n",
       "</table>\n",
       "</div>"
      ],
      "text/plain": [
       "   aardvark  1  0  0.1  1.1  0.2  0.3  1.2  1.3  1.4  1.5  0.4  0.5  4  0.6  \\\n",
       "70     rhea  0  1    1    0    0    0    1    0    1    1    0    0  2    1   \n",
       "24     frog  0  0    1    0    0    1    1    1    1    1    0    0  4    0   \n",
       "40     kiwi  0  1    1    0    0    0    1    0    1    1    0    0  2    1   \n",
       "\n",
       "    0.7  1.6  1.7  \n",
       "70    0    1    2  \n",
       "24    0    0    5  \n",
       "40    0    0    2  "
      ]
     },
     "execution_count": 6,
     "metadata": {},
     "output_type": "execute_result"
    }
   ],
   "source": [
    "df.sample(3)"
   ]
  },
  {
   "cell_type": "code",
   "execution_count": 7,
   "metadata": {
    "ExecuteTime": {
     "end_time": "2021-06-06T21:49:29.721857Z",
     "start_time": "2021-06-06T21:49:29.700236Z"
    }
   },
   "outputs": [],
   "source": [
    "names = [\n",
    "    'animal name',\n",
    "    'hair',\n",
    "    'feathers',\n",
    "    'eggs',\n",
    "    'milk',\n",
    "    'airborne',\n",
    "    'aquatic',\n",
    "    'predator',\n",
    "    'toothed',\n",
    "    'backbone',\n",
    "    'breathes',\n",
    "    'venomous',\n",
    "    'fins',\n",
    "    'legs',\n",
    "    'tail',\n",
    "    'domestic',\n",
    "    'catsize',\n",
    "    'type'\n",
    "    ]"
   ]
  },
  {
   "cell_type": "code",
   "execution_count": 8,
   "metadata": {
    "ExecuteTime": {
     "end_time": "2021-06-06T21:49:30.641436Z",
     "start_time": "2021-06-06T21:49:30.626403Z"
    }
   },
   "outputs": [],
   "source": [
    "df.columns = names"
   ]
  },
  {
   "cell_type": "code",
   "execution_count": 9,
   "metadata": {
    "ExecuteTime": {
     "end_time": "2021-06-06T21:49:31.310939Z",
     "start_time": "2021-06-06T21:49:31.268184Z"
    }
   },
   "outputs": [
    {
     "data": {
      "text/html": [
       "<div>\n",
       "<style scoped>\n",
       "    .dataframe tbody tr th:only-of-type {\n",
       "        vertical-align: middle;\n",
       "    }\n",
       "\n",
       "    .dataframe tbody tr th {\n",
       "        vertical-align: top;\n",
       "    }\n",
       "\n",
       "    .dataframe thead th {\n",
       "        text-align: right;\n",
       "    }\n",
       "</style>\n",
       "<table border=\"1\" class=\"dataframe\">\n",
       "  <thead>\n",
       "    <tr style=\"text-align: right;\">\n",
       "      <th></th>\n",
       "      <th>animal name</th>\n",
       "      <th>hair</th>\n",
       "      <th>feathers</th>\n",
       "      <th>eggs</th>\n",
       "      <th>milk</th>\n",
       "      <th>airborne</th>\n",
       "      <th>aquatic</th>\n",
       "      <th>predator</th>\n",
       "      <th>toothed</th>\n",
       "      <th>backbone</th>\n",
       "      <th>breathes</th>\n",
       "      <th>venomous</th>\n",
       "      <th>fins</th>\n",
       "      <th>legs</th>\n",
       "      <th>tail</th>\n",
       "      <th>domestic</th>\n",
       "      <th>catsize</th>\n",
       "      <th>type</th>\n",
       "    </tr>\n",
       "  </thead>\n",
       "  <tbody>\n",
       "    <tr>\n",
       "      <th>89</th>\n",
       "      <td>tortoise</td>\n",
       "      <td>0</td>\n",
       "      <td>0</td>\n",
       "      <td>1</td>\n",
       "      <td>0</td>\n",
       "      <td>0</td>\n",
       "      <td>0</td>\n",
       "      <td>0</td>\n",
       "      <td>0</td>\n",
       "      <td>1</td>\n",
       "      <td>1</td>\n",
       "      <td>0</td>\n",
       "      <td>0</td>\n",
       "      <td>4</td>\n",
       "      <td>1</td>\n",
       "      <td>0</td>\n",
       "      <td>1</td>\n",
       "      <td>3</td>\n",
       "    </tr>\n",
       "    <tr>\n",
       "      <th>47</th>\n",
       "      <td>mink</td>\n",
       "      <td>1</td>\n",
       "      <td>0</td>\n",
       "      <td>0</td>\n",
       "      <td>1</td>\n",
       "      <td>0</td>\n",
       "      <td>1</td>\n",
       "      <td>1</td>\n",
       "      <td>1</td>\n",
       "      <td>1</td>\n",
       "      <td>1</td>\n",
       "      <td>0</td>\n",
       "      <td>0</td>\n",
       "      <td>4</td>\n",
       "      <td>1</td>\n",
       "      <td>0</td>\n",
       "      <td>1</td>\n",
       "      <td>1</td>\n",
       "    </tr>\n",
       "    <tr>\n",
       "      <th>68</th>\n",
       "      <td>raccoon</td>\n",
       "      <td>1</td>\n",
       "      <td>0</td>\n",
       "      <td>0</td>\n",
       "      <td>1</td>\n",
       "      <td>0</td>\n",
       "      <td>0</td>\n",
       "      <td>1</td>\n",
       "      <td>1</td>\n",
       "      <td>1</td>\n",
       "      <td>1</td>\n",
       "      <td>0</td>\n",
       "      <td>0</td>\n",
       "      <td>4</td>\n",
       "      <td>1</td>\n",
       "      <td>0</td>\n",
       "      <td>1</td>\n",
       "      <td>1</td>\n",
       "    </tr>\n",
       "  </tbody>\n",
       "</table>\n",
       "</div>"
      ],
      "text/plain": [
       "   animal name  hair  feathers  eggs  milk  airborne  aquatic  predator  \\\n",
       "89    tortoise     0         0     1     0         0        0         0   \n",
       "47        mink     1         0     0     1         0        1         1   \n",
       "68     raccoon     1         0     0     1         0        0         1   \n",
       "\n",
       "    toothed  backbone  breathes  venomous  fins  legs  tail  domestic  \\\n",
       "89        0         1         1         0     0     4     1         0   \n",
       "47        1         1         1         0     0     4     1         0   \n",
       "68        1         1         1         0     0     4     1         0   \n",
       "\n",
       "    catsize  type  \n",
       "89        1     3  \n",
       "47        1     1  \n",
       "68        1     1  "
      ]
     },
     "execution_count": 9,
     "metadata": {},
     "output_type": "execute_result"
    }
   ],
   "source": [
    "df.sample(3)"
   ]
  },
  {
   "cell_type": "code",
   "execution_count": 10,
   "metadata": {
    "ExecuteTime": {
     "end_time": "2021-06-06T21:49:33.135794Z",
     "start_time": "2021-06-06T21:49:33.083516Z"
    }
   },
   "outputs": [
    {
     "name": "stdout",
     "output_type": "stream",
     "text": [
      "<class 'pandas.core.frame.DataFrame'>\n",
      "RangeIndex: 100 entries, 0 to 99\n",
      "Data columns (total 18 columns):\n",
      " #   Column       Non-Null Count  Dtype \n",
      "---  ------       --------------  ----- \n",
      " 0   animal name  100 non-null    object\n",
      " 1   hair         100 non-null    int64 \n",
      " 2   feathers     100 non-null    int64 \n",
      " 3   eggs         100 non-null    int64 \n",
      " 4   milk         100 non-null    int64 \n",
      " 5   airborne     100 non-null    int64 \n",
      " 6   aquatic      100 non-null    int64 \n",
      " 7   predator     100 non-null    int64 \n",
      " 8   toothed      100 non-null    int64 \n",
      " 9   backbone     100 non-null    int64 \n",
      " 10  breathes     100 non-null    int64 \n",
      " 11  venomous     100 non-null    int64 \n",
      " 12  fins         100 non-null    int64 \n",
      " 13  legs         100 non-null    int64 \n",
      " 14  tail         100 non-null    int64 \n",
      " 15  domestic     100 non-null    int64 \n",
      " 16  catsize      100 non-null    int64 \n",
      " 17  type         100 non-null    int64 \n",
      "dtypes: int64(17), object(1)\n",
      "memory usage: 14.2+ KB\n"
     ]
    }
   ],
   "source": [
    "df.info()"
   ]
  },
  {
   "cell_type": "code",
   "execution_count": 11,
   "metadata": {
    "ExecuteTime": {
     "end_time": "2021-06-06T21:49:34.544853Z",
     "start_time": "2021-06-06T21:49:34.388396Z"
    }
   },
   "outputs": [
    {
     "data": {
      "text/html": [
       "<div>\n",
       "<style scoped>\n",
       "    .dataframe tbody tr th:only-of-type {\n",
       "        vertical-align: middle;\n",
       "    }\n",
       "\n",
       "    .dataframe tbody tr th {\n",
       "        vertical-align: top;\n",
       "    }\n",
       "\n",
       "    .dataframe thead th {\n",
       "        text-align: right;\n",
       "    }\n",
       "</style>\n",
       "<table border=\"1\" class=\"dataframe\">\n",
       "  <thead>\n",
       "    <tr style=\"text-align: right;\">\n",
       "      <th></th>\n",
       "      <th>hair</th>\n",
       "      <th>feathers</th>\n",
       "      <th>eggs</th>\n",
       "      <th>milk</th>\n",
       "      <th>airborne</th>\n",
       "      <th>aquatic</th>\n",
       "      <th>predator</th>\n",
       "      <th>toothed</th>\n",
       "      <th>backbone</th>\n",
       "      <th>breathes</th>\n",
       "      <th>venomous</th>\n",
       "      <th>fins</th>\n",
       "      <th>legs</th>\n",
       "      <th>tail</th>\n",
       "      <th>domestic</th>\n",
       "      <th>catsize</th>\n",
       "      <th>type</th>\n",
       "    </tr>\n",
       "  </thead>\n",
       "  <tbody>\n",
       "    <tr>\n",
       "      <th>count</th>\n",
       "      <td>100.00</td>\n",
       "      <td>100.00</td>\n",
       "      <td>100.00</td>\n",
       "      <td>100.00</td>\n",
       "      <td>100.00</td>\n",
       "      <td>100.00</td>\n",
       "      <td>100.00</td>\n",
       "      <td>100.00</td>\n",
       "      <td>100.00</td>\n",
       "      <td>100.00</td>\n",
       "      <td>100.00</td>\n",
       "      <td>100.00</td>\n",
       "      <td>100.00</td>\n",
       "      <td>100.00</td>\n",
       "      <td>100.00</td>\n",
       "      <td>100.00</td>\n",
       "      <td>100.00</td>\n",
       "    </tr>\n",
       "    <tr>\n",
       "      <th>mean</th>\n",
       "      <td>0.42</td>\n",
       "      <td>0.20</td>\n",
       "      <td>0.59</td>\n",
       "      <td>0.40</td>\n",
       "      <td>0.24</td>\n",
       "      <td>0.36</td>\n",
       "      <td>0.55</td>\n",
       "      <td>0.60</td>\n",
       "      <td>0.82</td>\n",
       "      <td>0.79</td>\n",
       "      <td>0.08</td>\n",
       "      <td>0.17</td>\n",
       "      <td>2.83</td>\n",
       "      <td>0.75</td>\n",
       "      <td>0.13</td>\n",
       "      <td>0.43</td>\n",
       "      <td>2.85</td>\n",
       "    </tr>\n",
       "    <tr>\n",
       "      <th>std</th>\n",
       "      <td>0.50</td>\n",
       "      <td>0.40</td>\n",
       "      <td>0.49</td>\n",
       "      <td>0.49</td>\n",
       "      <td>0.43</td>\n",
       "      <td>0.48</td>\n",
       "      <td>0.50</td>\n",
       "      <td>0.49</td>\n",
       "      <td>0.39</td>\n",
       "      <td>0.41</td>\n",
       "      <td>0.27</td>\n",
       "      <td>0.38</td>\n",
       "      <td>2.04</td>\n",
       "      <td>0.44</td>\n",
       "      <td>0.34</td>\n",
       "      <td>0.50</td>\n",
       "      <td>2.11</td>\n",
       "    </tr>\n",
       "    <tr>\n",
       "      <th>min</th>\n",
       "      <td>0.00</td>\n",
       "      <td>0.00</td>\n",
       "      <td>0.00</td>\n",
       "      <td>0.00</td>\n",
       "      <td>0.00</td>\n",
       "      <td>0.00</td>\n",
       "      <td>0.00</td>\n",
       "      <td>0.00</td>\n",
       "      <td>0.00</td>\n",
       "      <td>0.00</td>\n",
       "      <td>0.00</td>\n",
       "      <td>0.00</td>\n",
       "      <td>0.00</td>\n",
       "      <td>0.00</td>\n",
       "      <td>0.00</td>\n",
       "      <td>0.00</td>\n",
       "      <td>1.00</td>\n",
       "    </tr>\n",
       "    <tr>\n",
       "      <th>25%</th>\n",
       "      <td>0.00</td>\n",
       "      <td>0.00</td>\n",
       "      <td>0.00</td>\n",
       "      <td>0.00</td>\n",
       "      <td>0.00</td>\n",
       "      <td>0.00</td>\n",
       "      <td>0.00</td>\n",
       "      <td>0.00</td>\n",
       "      <td>1.00</td>\n",
       "      <td>1.00</td>\n",
       "      <td>0.00</td>\n",
       "      <td>0.00</td>\n",
       "      <td>2.00</td>\n",
       "      <td>0.75</td>\n",
       "      <td>0.00</td>\n",
       "      <td>0.00</td>\n",
       "      <td>1.00</td>\n",
       "    </tr>\n",
       "    <tr>\n",
       "      <th>50%</th>\n",
       "      <td>0.00</td>\n",
       "      <td>0.00</td>\n",
       "      <td>1.00</td>\n",
       "      <td>0.00</td>\n",
       "      <td>0.00</td>\n",
       "      <td>0.00</td>\n",
       "      <td>1.00</td>\n",
       "      <td>1.00</td>\n",
       "      <td>1.00</td>\n",
       "      <td>1.00</td>\n",
       "      <td>0.00</td>\n",
       "      <td>0.00</td>\n",
       "      <td>3.00</td>\n",
       "      <td>1.00</td>\n",
       "      <td>0.00</td>\n",
       "      <td>0.00</td>\n",
       "      <td>2.00</td>\n",
       "    </tr>\n",
       "    <tr>\n",
       "      <th>75%</th>\n",
       "      <td>1.00</td>\n",
       "      <td>0.00</td>\n",
       "      <td>1.00</td>\n",
       "      <td>1.00</td>\n",
       "      <td>0.00</td>\n",
       "      <td>1.00</td>\n",
       "      <td>1.00</td>\n",
       "      <td>1.00</td>\n",
       "      <td>1.00</td>\n",
       "      <td>1.00</td>\n",
       "      <td>0.00</td>\n",
       "      <td>0.00</td>\n",
       "      <td>4.00</td>\n",
       "      <td>1.00</td>\n",
       "      <td>0.00</td>\n",
       "      <td>1.00</td>\n",
       "      <td>4.00</td>\n",
       "    </tr>\n",
       "    <tr>\n",
       "      <th>max</th>\n",
       "      <td>1.00</td>\n",
       "      <td>1.00</td>\n",
       "      <td>1.00</td>\n",
       "      <td>1.00</td>\n",
       "      <td>1.00</td>\n",
       "      <td>1.00</td>\n",
       "      <td>1.00</td>\n",
       "      <td>1.00</td>\n",
       "      <td>1.00</td>\n",
       "      <td>1.00</td>\n",
       "      <td>1.00</td>\n",
       "      <td>1.00</td>\n",
       "      <td>8.00</td>\n",
       "      <td>1.00</td>\n",
       "      <td>1.00</td>\n",
       "      <td>1.00</td>\n",
       "      <td>7.00</td>\n",
       "    </tr>\n",
       "  </tbody>\n",
       "</table>\n",
       "</div>"
      ],
      "text/plain": [
       "        hair  feathers   eggs   milk  airborne  aquatic  predator  toothed  \\\n",
       "count 100.00    100.00 100.00 100.00    100.00   100.00    100.00   100.00   \n",
       "mean    0.42      0.20   0.59   0.40      0.24     0.36      0.55     0.60   \n",
       "std     0.50      0.40   0.49   0.49      0.43     0.48      0.50     0.49   \n",
       "min     0.00      0.00   0.00   0.00      0.00     0.00      0.00     0.00   \n",
       "25%     0.00      0.00   0.00   0.00      0.00     0.00      0.00     0.00   \n",
       "50%     0.00      0.00   1.00   0.00      0.00     0.00      1.00     1.00   \n",
       "75%     1.00      0.00   1.00   1.00      0.00     1.00      1.00     1.00   \n",
       "max     1.00      1.00   1.00   1.00      1.00     1.00      1.00     1.00   \n",
       "\n",
       "       backbone  breathes  venomous   fins   legs   tail  domestic  catsize  \\\n",
       "count    100.00    100.00    100.00 100.00 100.00 100.00    100.00   100.00   \n",
       "mean       0.82      0.79      0.08   0.17   2.83   0.75      0.13     0.43   \n",
       "std        0.39      0.41      0.27   0.38   2.04   0.44      0.34     0.50   \n",
       "min        0.00      0.00      0.00   0.00   0.00   0.00      0.00     0.00   \n",
       "25%        1.00      1.00      0.00   0.00   2.00   0.75      0.00     0.00   \n",
       "50%        1.00      1.00      0.00   0.00   3.00   1.00      0.00     0.00   \n",
       "75%        1.00      1.00      0.00   0.00   4.00   1.00      0.00     1.00   \n",
       "max        1.00      1.00      1.00   1.00   8.00   1.00      1.00     1.00   \n",
       "\n",
       "        type  \n",
       "count 100.00  \n",
       "mean    2.85  \n",
       "std     2.11  \n",
       "min     1.00  \n",
       "25%     1.00  \n",
       "50%     2.00  \n",
       "75%     4.00  \n",
       "max     7.00  "
      ]
     },
     "execution_count": 11,
     "metadata": {},
     "output_type": "execute_result"
    }
   ],
   "source": [
    "df.describe()"
   ]
  },
  {
   "cell_type": "markdown",
   "metadata": {},
   "source": [
    "## Visualizaciones"
   ]
  },
  {
   "cell_type": "markdown",
   "metadata": {},
   "source": [
    "### Gráfico de lineas"
   ]
  },
  {
   "cell_type": "markdown",
   "metadata": {},
   "source": [
    "#### Matplotlib"
   ]
  },
  {
   "cell_type": "code",
   "execution_count": 52,
   "metadata": {
    "ExecuteTime": {
     "end_time": "2021-06-06T22:26:26.105098Z",
     "start_time": "2021-06-06T22:26:23.788899Z"
    }
   },
   "outputs": [
    {
     "data": {
      "image/png": "[encoded data removed]",
      "text/plain": [
       "<Figure size 1080x720 with 1 Axes>"
      ]
     },
     "metadata": {
      "needs_background": "light"
     },
     "output_type": "display_data"
    }
   ],
   "source": [
    "plt.figure(figsize=(15,10))\n",
    "plt.plot(list(df['animal name']), list(df['legs']))\n",
    "plt.xlabel('Animales')\n",
    "plt.ylabel('Cantidad de extremidades')\n",
    "plt.title('Gráfico de Linea')\n",
    "plt.show()"
   ]
  },
  {
   "cell_type": "markdown",
   "metadata": {},
   "source": [
    "#### Seaborn"
   ]
  },
  {
   "cell_type": "code",
   "execution_count": null,
   "metadata": {},
   "outputs": [],
   "source": []
  },
  {
   "cell_type": "markdown",
   "metadata": {},
   "source": [
    "#### Altair"
   ]
  },
  {
   "cell_type": "code",
   "execution_count": 51,
   "metadata": {
    "ExecuteTime": {
     "end_time": "2021-06-06T16:07:08.712813Z",
     "start_time": "2021-06-06T16:07:08.688508Z"
    }
   },
   "outputs": [],
   "source": [
    "plot_01 = alt.Chart(df).mark_line().encode(\n",
    "    x = 'animal name',\n",
    "    y = 'legs'\n",
    ")"
   ]
  },
  {
   "cell_type": "code",
   "execution_count": 52,
   "metadata": {
    "ExecuteTime": {
     "end_time": "2021-06-06T16:07:12.069113Z",
     "start_time": "2021-06-06T16:07:12.025069Z"
    }
   },
   "outputs": [
    {
     "data": {
      "text/html": [
       "\n",
       "<div id=\"altair-viz-6aa379ad1ca1426db774d247bdab6ca1\"></div>\n",
       "<script type=\"text/javascript\">\n",
       "  (function(spec, embedOpt){\n",
       "    let outputDiv = document.currentScript.previousElementSibling;\n",
       "    if (outputDiv.id !== \"altair-viz-6aa379ad1ca1426db774d247bdab6ca1\") {\n",
       "      outputDiv = document.getElementById(\"altair-viz-6aa379ad1ca1426db774d247bdab6ca1\");\n",
       "    }\n",
       "    const paths = {\n",
       "      \"vega\": \"https://cdn.jsdelivr.net/npm//vega@5?noext\",\n",
       "      \"vega-lib\": \"https://cdn.jsdelivr.net/npm//vega-lib?noext\",\n",
       "      \"vega-lite\": \"https://cdn.jsdelivr.net/npm//vega-lite@4.8.1?noext\",\n",
       "      \"vega-embed\": \"https://cdn.jsdelivr.net/npm//vega-embed@6?noext\",\n",
       "    };\n",
       "\n",
       "    function loadScript(lib) {\n",
       "      return new Promise(function(resolve, reject) {\n",
       "        var s = document.createElement('script');\n",
       "        s.src = paths[lib];\n",
       "        s.async = true;\n",
       "        s.onload = () => resolve(paths[lib]);\n",
       "        s.onerror = () => reject(`Error loading script: ${paths[lib]}`);\n",
       "        document.getElementsByTagName(\"head\")[0].appendChild(s);\n",
       "      });\n",
       "    }\n",
       "\n",
       "    function showError(err) {\n",
       "      outputDiv.innerHTML = `<div class=\"error\" style=\"color:red;\">${err}</div>`;\n",
       "      throw err;\n",
       "    }\n",
       "\n",
       "    function displayChart(vegaEmbed) {\n",
       "      vegaEmbed(outputDiv, spec, embedOpt)\n",
       "        .catch(err => showError(`Javascript Error: ${err.message}<br>This usually means there's a typo in your chart specification. See the javascript console for the full traceback.`));\n",
       "    }\n",
       "\n",
       "    if(typeof define === \"function\" && define.amd) {\n",
       "      requirejs.config({paths});\n",
       "      require([\"vega-embed\"], displayChart, err => showError(`Error loading script: ${err.message}`));\n",
       "    } else if (typeof vegaEmbed === \"function\") {\n",
       "      displayChart(vegaEmbed);\n",
       "    } else {\n",
       "      loadScript(\"vega\")\n",
       "        .then(() => loadScript(\"vega-lite\"))\n",
       "        .then(() => loadScript(\"vega-embed\"))\n",
       "        .catch(showError)\n",
       "        .then(() => displayChart(vegaEmbed));\n",
       "    }\n",
       "  })({\"config\": {\"view\": {\"continuousWidth\": 400, \"continuousHeight\": 300}}, \"data\": {\"name\": \"data-36bba0743824d22ff0b0058f7689d6ff\"}, \"mark\": \"line\", \"encoding\": {\"x\": {\"type\": \"nominal\", \"field\": \"animal name\"}, \"y\": {\"type\": \"quantitative\", \"field\": \"legs\"}}, \"$schema\": \"https://vega.github.io/schema/vega-lite/v4.8.1.json\", \"datasets\": {\"data-36bba0743824d22ff0b0058f7689d6ff\": [{\"animal name\": \"antelope\", \"hair\": 1, \"feathers\": 0, \"eggs\": 0, \"milk\": 1, \"airborne\": 0, \"aquatic\": 0, \"predator\": 0, \"toothed\": 1, \"backbone\": 1, \"breathes\": 1, \"venomous\": 0, \"fins\": 0, \"legs\": 4, \"tail\": 1, \"domestic\": 0, \"catsize\": 1, \"type\": 1}, {\"animal name\": \"bass\", \"hair\": 0, \"feathers\": 0, \"eggs\": 1, \"milk\": 0, \"airborne\": 0, \"aquatic\": 1, \"predator\": 1, \"toothed\": 1, \"backbone\": 1, \"breathes\": 0, \"venomous\": 0, \"fins\": 1, \"legs\": 0, \"tail\": 1, \"domestic\": 0, \"catsize\": 0, \"type\": 4}, {\"animal name\": \"bear\", \"hair\": 1, \"feathers\": 0, \"eggs\": 0, \"milk\": 1, \"airborne\": 0, \"aquatic\": 0, \"predator\": 1, \"toothed\": 1, \"backbone\": 1, \"breathes\": 1, \"venomous\": 0, \"fins\": 0, \"legs\": 4, \"tail\": 0, \"domestic\": 0, \"catsize\": 1, \"type\": 1}, {\"animal name\": \"boar\", \"hair\": 1, \"feathers\": 0, \"eggs\": 0, \"milk\": 1, \"airborne\": 0, \"aquatic\": 0, \"predator\": 1, \"toothed\": 1, \"backbone\": 1, \"breathes\": 1, \"venomous\": 0, \"fins\": 0, \"legs\": 4, \"tail\": 1, \"domestic\": 0, \"catsize\": 1, \"type\": 1}, {\"animal name\": \"buffalo\", \"hair\": 1, \"feathers\": 0, \"eggs\": 0, \"milk\": 1, \"airborne\": 0, \"aquatic\": 0, \"predator\": 0, \"toothed\": 1, \"backbone\": 1, \"breathes\": 1, \"venomous\": 0, \"fins\": 0, \"legs\": 4, \"tail\": 1, \"domestic\": 0, \"catsize\": 1, \"type\": 1}, {\"animal name\": \"calf\", \"hair\": 1, \"feathers\": 0, \"eggs\": 0, \"milk\": 1, \"airborne\": 0, \"aquatic\": 0, \"predator\": 0, \"toothed\": 1, \"backbone\": 1, \"breathes\": 1, \"venomous\": 0, \"fins\": 0, \"legs\": 4, \"tail\": 1, \"domestic\": 1, \"catsize\": 1, \"type\": 1}, {\"animal name\": \"carp\", \"hair\": 0, \"feathers\": 0, \"eggs\": 1, \"milk\": 0, \"airborne\": 0, \"aquatic\": 1, \"predator\": 0, \"toothed\": 1, \"backbone\": 1, \"breathes\": 0, \"venomous\": 0, \"fins\": 1, \"legs\": 0, \"tail\": 1, \"domestic\": 1, \"catsize\": 0, \"type\": 4}, {\"animal name\": \"catfish\", \"hair\": 0, \"feathers\": 0, \"eggs\": 1, \"milk\": 0, \"airborne\": 0, \"aquatic\": 1, \"predator\": 1, \"toothed\": 1, \"backbone\": 1, \"breathes\": 0, \"venomous\": 0, \"fins\": 1, \"legs\": 0, \"tail\": 1, \"domestic\": 0, \"catsize\": 0, \"type\": 4}, {\"animal name\": \"cavy\", \"hair\": 1, \"feathers\": 0, \"eggs\": 0, \"milk\": 1, \"airborne\": 0, \"aquatic\": 0, \"predator\": 0, \"toothed\": 1, \"backbone\": 1, \"breathes\": 1, \"venomous\": 0, \"fins\": 0, \"legs\": 4, \"tail\": 0, \"domestic\": 1, \"catsize\": 0, \"type\": 1}, {\"animal name\": \"cheetah\", \"hair\": 1, \"feathers\": 0, \"eggs\": 0, \"milk\": 1, \"airborne\": 0, \"aquatic\": 0, \"predator\": 1, \"toothed\": 1, \"backbone\": 1, \"breathes\": 1, \"venomous\": 0, \"fins\": 0, \"legs\": 4, \"tail\": 1, \"domestic\": 0, \"catsize\": 1, \"type\": 1}, {\"animal name\": \"chicken\", \"hair\": 0, \"feathers\": 1, \"eggs\": 1, \"milk\": 0, \"airborne\": 1, \"aquatic\": 0, \"predator\": 0, \"toothed\": 0, \"backbone\": 1, \"breathes\": 1, \"venomous\": 0, \"fins\": 0, \"legs\": 2, \"tail\": 1, \"domestic\": 1, \"catsize\": 0, \"type\": 2}, {\"animal name\": \"chub\", \"hair\": 0, \"feathers\": 0, \"eggs\": 1, \"milk\": 0, \"airborne\": 0, \"aquatic\": 1, \"predator\": 1, \"toothed\": 1, \"backbone\": 1, \"breathes\": 0, \"venomous\": 0, \"fins\": 1, \"legs\": 0, \"tail\": 1, \"domestic\": 0, \"catsize\": 0, \"type\": 4}, {\"animal name\": \"clam\", \"hair\": 0, \"feathers\": 0, \"eggs\": 1, \"milk\": 0, \"airborne\": 0, \"aquatic\": 0, \"predator\": 1, \"toothed\": 0, \"backbone\": 0, \"breathes\": 0, \"venomous\": 0, \"fins\": 0, \"legs\": 0, \"tail\": 0, \"domestic\": 0, \"catsize\": 0, \"type\": 7}, {\"animal name\": \"crab\", \"hair\": 0, \"feathers\": 0, \"eggs\": 1, \"milk\": 0, \"airborne\": 0, \"aquatic\": 1, \"predator\": 1, \"toothed\": 0, \"backbone\": 0, \"breathes\": 0, \"venomous\": 0, \"fins\": 0, \"legs\": 4, \"tail\": 0, \"domestic\": 0, \"catsize\": 0, \"type\": 7}, {\"animal name\": \"crayfish\", \"hair\": 0, \"feathers\": 0, \"eggs\": 1, \"milk\": 0, \"airborne\": 0, \"aquatic\": 1, \"predator\": 1, \"toothed\": 0, \"backbone\": 0, \"breathes\": 0, \"venomous\": 0, \"fins\": 0, \"legs\": 6, \"tail\": 0, \"domestic\": 0, \"catsize\": 0, \"type\": 7}, {\"animal name\": \"crow\", \"hair\": 0, \"feathers\": 1, \"eggs\": 1, \"milk\": 0, \"airborne\": 1, \"aquatic\": 0, \"predator\": 1, \"toothed\": 0, \"backbone\": 1, \"breathes\": 1, \"venomous\": 0, \"fins\": 0, \"legs\": 2, \"tail\": 1, \"domestic\": 0, \"catsize\": 0, \"type\": 2}, {\"animal name\": \"deer\", \"hair\": 1, \"feathers\": 0, \"eggs\": 0, \"milk\": 1, \"airborne\": 0, \"aquatic\": 0, \"predator\": 0, \"toothed\": 1, \"backbone\": 1, \"breathes\": 1, \"venomous\": 0, \"fins\": 0, \"legs\": 4, \"tail\": 1, \"domestic\": 0, \"catsize\": 1, \"type\": 1}, {\"animal name\": \"dogfish\", \"hair\": 0, \"feathers\": 0, \"eggs\": 1, \"milk\": 0, \"airborne\": 0, \"aquatic\": 1, \"predator\": 1, \"toothed\": 1, \"backbone\": 1, \"breathes\": 0, \"venomous\": 0, \"fins\": 1, \"legs\": 0, \"tail\": 1, \"domestic\": 0, \"catsize\": 1, \"type\": 4}, {\"animal name\": \"dolphin\", \"hair\": 0, \"feathers\": 0, \"eggs\": 0, \"milk\": 1, \"airborne\": 0, \"aquatic\": 1, \"predator\": 1, \"toothed\": 1, \"backbone\": 1, \"breathes\": 1, \"venomous\": 0, \"fins\": 1, \"legs\": 0, \"tail\": 1, \"domestic\": 0, \"catsize\": 1, \"type\": 1}, {\"animal name\": \"dove\", \"hair\": 0, \"feathers\": 1, \"eggs\": 1, \"milk\": 0, \"airborne\": 1, \"aquatic\": 0, \"predator\": 0, \"toothed\": 0, \"backbone\": 1, \"breathes\": 1, \"venomous\": 0, \"fins\": 0, \"legs\": 2, \"tail\": 1, \"domestic\": 1, \"catsize\": 0, \"type\": 2}, {\"animal name\": \"duck\", \"hair\": 0, \"feathers\": 1, \"eggs\": 1, \"milk\": 0, \"airborne\": 1, \"aquatic\": 1, \"predator\": 0, \"toothed\": 0, \"backbone\": 1, \"breathes\": 1, \"venomous\": 0, \"fins\": 0, \"legs\": 2, \"tail\": 1, \"domestic\": 0, \"catsize\": 0, \"type\": 2}, {\"animal name\": \"elephant\", \"hair\": 1, \"feathers\": 0, \"eggs\": 0, \"milk\": 1, \"airborne\": 0, \"aquatic\": 0, \"predator\": 0, \"toothed\": 1, \"backbone\": 1, \"breathes\": 1, \"venomous\": 0, \"fins\": 0, \"legs\": 4, \"tail\": 1, \"domestic\": 0, \"catsize\": 1, \"type\": 1}, {\"animal name\": \"flamingo\", \"hair\": 0, \"feathers\": 1, \"eggs\": 1, \"milk\": 0, \"airborne\": 1, \"aquatic\": 0, \"predator\": 0, \"toothed\": 0, \"backbone\": 1, \"breathes\": 1, \"venomous\": 0, \"fins\": 0, \"legs\": 2, \"tail\": 1, \"domestic\": 0, \"catsize\": 1, \"type\": 2}, {\"animal name\": \"flea\", \"hair\": 0, \"feathers\": 0, \"eggs\": 1, \"milk\": 0, \"airborne\": 0, \"aquatic\": 0, \"predator\": 0, \"toothed\": 0, \"backbone\": 0, \"breathes\": 1, \"venomous\": 0, \"fins\": 0, \"legs\": 6, \"tail\": 0, \"domestic\": 0, \"catsize\": 0, \"type\": 6}, {\"animal name\": \"frog\", \"hair\": 0, \"feathers\": 0, \"eggs\": 1, \"milk\": 0, \"airborne\": 0, \"aquatic\": 1, \"predator\": 1, \"toothed\": 1, \"backbone\": 1, \"breathes\": 1, \"venomous\": 0, \"fins\": 0, \"legs\": 4, \"tail\": 0, \"domestic\": 0, \"catsize\": 0, \"type\": 5}, {\"animal name\": \"frog\", \"hair\": 0, \"feathers\": 0, \"eggs\": 1, \"milk\": 0, \"airborne\": 0, \"aquatic\": 1, \"predator\": 1, \"toothed\": 1, \"backbone\": 1, \"breathes\": 1, \"venomous\": 1, \"fins\": 0, \"legs\": 4, \"tail\": 0, \"domestic\": 0, \"catsize\": 0, \"type\": 5}, {\"animal name\": \"fruitbat\", \"hair\": 1, \"feathers\": 0, \"eggs\": 0, \"milk\": 1, \"airborne\": 1, \"aquatic\": 0, \"predator\": 0, \"toothed\": 1, \"backbone\": 1, \"breathes\": 1, \"venomous\": 0, \"fins\": 0, \"legs\": 2, \"tail\": 1, \"domestic\": 0, \"catsize\": 0, \"type\": 1}, {\"animal name\": \"giraffe\", \"hair\": 1, \"feathers\": 0, \"eggs\": 0, \"milk\": 1, \"airborne\": 0, \"aquatic\": 0, \"predator\": 0, \"toothed\": 1, \"backbone\": 1, \"breathes\": 1, \"venomous\": 0, \"fins\": 0, \"legs\": 4, \"tail\": 1, \"domestic\": 0, \"catsize\": 1, \"type\": 1}, {\"animal name\": \"girl\", \"hair\": 1, \"feathers\": 0, \"eggs\": 0, \"milk\": 1, \"airborne\": 0, \"aquatic\": 0, \"predator\": 1, \"toothed\": 1, \"backbone\": 1, \"breathes\": 1, \"venomous\": 0, \"fins\": 0, \"legs\": 2, \"tail\": 0, \"domestic\": 1, \"catsize\": 1, \"type\": 1}, {\"animal name\": \"gnat\", \"hair\": 0, \"feathers\": 0, \"eggs\": 1, \"milk\": 0, \"airborne\": 1, \"aquatic\": 0, \"predator\": 0, \"toothed\": 0, \"backbone\": 0, \"breathes\": 1, \"venomous\": 0, \"fins\": 0, \"legs\": 6, \"tail\": 0, \"domestic\": 0, \"catsize\": 0, \"type\": 6}, {\"animal name\": \"goat\", \"hair\": 1, \"feathers\": 0, \"eggs\": 0, \"milk\": 1, \"airborne\": 0, \"aquatic\": 0, \"predator\": 0, \"toothed\": 1, \"backbone\": 1, \"breathes\": 1, \"venomous\": 0, \"fins\": 0, \"legs\": 4, \"tail\": 1, \"domestic\": 1, \"catsize\": 1, \"type\": 1}, {\"animal name\": \"gorilla\", \"hair\": 1, \"feathers\": 0, \"eggs\": 0, \"milk\": 1, \"airborne\": 0, \"aquatic\": 0, \"predator\": 0, \"toothed\": 1, \"backbone\": 1, \"breathes\": 1, \"venomous\": 0, \"fins\": 0, \"legs\": 2, \"tail\": 0, \"domestic\": 0, \"catsize\": 1, \"type\": 1}, {\"animal name\": \"gull\", \"hair\": 0, \"feathers\": 1, \"eggs\": 1, \"milk\": 0, \"airborne\": 1, \"aquatic\": 1, \"predator\": 1, \"toothed\": 0, \"backbone\": 1, \"breathes\": 1, \"venomous\": 0, \"fins\": 0, \"legs\": 2, \"tail\": 1, \"domestic\": 0, \"catsize\": 0, \"type\": 2}, {\"animal name\": \"haddock\", \"hair\": 0, \"feathers\": 0, \"eggs\": 1, \"milk\": 0, \"airborne\": 0, \"aquatic\": 1, \"predator\": 0, \"toothed\": 1, \"backbone\": 1, \"breathes\": 0, \"venomous\": 0, \"fins\": 1, \"legs\": 0, \"tail\": 1, \"domestic\": 0, \"catsize\": 0, \"type\": 4}, {\"animal name\": \"hamster\", \"hair\": 1, \"feathers\": 0, \"eggs\": 0, \"milk\": 1, \"airborne\": 0, \"aquatic\": 0, \"predator\": 0, \"toothed\": 1, \"backbone\": 1, \"breathes\": 1, \"venomous\": 0, \"fins\": 0, \"legs\": 4, \"tail\": 1, \"domestic\": 1, \"catsize\": 0, \"type\": 1}, {\"animal name\": \"hare\", \"hair\": 1, \"feathers\": 0, \"eggs\": 0, \"milk\": 1, \"airborne\": 0, \"aquatic\": 0, \"predator\": 0, \"toothed\": 1, \"backbone\": 1, \"breathes\": 1, \"venomous\": 0, \"fins\": 0, \"legs\": 4, \"tail\": 1, \"domestic\": 0, \"catsize\": 0, \"type\": 1}, {\"animal name\": \"hawk\", \"hair\": 0, \"feathers\": 1, \"eggs\": 1, \"milk\": 0, \"airborne\": 1, \"aquatic\": 0, \"predator\": 1, \"toothed\": 0, \"backbone\": 1, \"breathes\": 1, \"venomous\": 0, \"fins\": 0, \"legs\": 2, \"tail\": 1, \"domestic\": 0, \"catsize\": 0, \"type\": 2}, {\"animal name\": \"herring\", \"hair\": 0, \"feathers\": 0, \"eggs\": 1, \"milk\": 0, \"airborne\": 0, \"aquatic\": 1, \"predator\": 1, \"toothed\": 1, \"backbone\": 1, \"breathes\": 0, \"venomous\": 0, \"fins\": 1, \"legs\": 0, \"tail\": 1, \"domestic\": 0, \"catsize\": 0, \"type\": 4}, {\"animal name\": \"honeybee\", \"hair\": 1, \"feathers\": 0, \"eggs\": 1, \"milk\": 0, \"airborne\": 1, \"aquatic\": 0, \"predator\": 0, \"toothed\": 0, \"backbone\": 0, \"breathes\": 1, \"venomous\": 1, \"fins\": 0, \"legs\": 6, \"tail\": 0, \"domestic\": 1, \"catsize\": 0, \"type\": 6}, {\"animal name\": \"housefly\", \"hair\": 1, \"feathers\": 0, \"eggs\": 1, \"milk\": 0, \"airborne\": 1, \"aquatic\": 0, \"predator\": 0, \"toothed\": 0, \"backbone\": 0, \"breathes\": 1, \"venomous\": 0, \"fins\": 0, \"legs\": 6, \"tail\": 0, \"domestic\": 0, \"catsize\": 0, \"type\": 6}, {\"animal name\": \"kiwi\", \"hair\": 0, \"feathers\": 1, \"eggs\": 1, \"milk\": 0, \"airborne\": 0, \"aquatic\": 0, \"predator\": 1, \"toothed\": 0, \"backbone\": 1, \"breathes\": 1, \"venomous\": 0, \"fins\": 0, \"legs\": 2, \"tail\": 1, \"domestic\": 0, \"catsize\": 0, \"type\": 2}, {\"animal name\": \"ladybird\", \"hair\": 0, \"feathers\": 0, \"eggs\": 1, \"milk\": 0, \"airborne\": 1, \"aquatic\": 0, \"predator\": 1, \"toothed\": 0, \"backbone\": 0, \"breathes\": 1, \"venomous\": 0, \"fins\": 0, \"legs\": 6, \"tail\": 0, \"domestic\": 0, \"catsize\": 0, \"type\": 6}, {\"animal name\": \"lark\", \"hair\": 0, \"feathers\": 1, \"eggs\": 1, \"milk\": 0, \"airborne\": 1, \"aquatic\": 0, \"predator\": 0, \"toothed\": 0, \"backbone\": 1, \"breathes\": 1, \"venomous\": 0, \"fins\": 0, \"legs\": 2, \"tail\": 1, \"domestic\": 0, \"catsize\": 0, \"type\": 2}, {\"animal name\": \"leopard\", \"hair\": 1, \"feathers\": 0, \"eggs\": 0, \"milk\": 1, \"airborne\": 0, \"aquatic\": 0, \"predator\": 1, \"toothed\": 1, \"backbone\": 1, \"breathes\": 1, \"venomous\": 0, \"fins\": 0, \"legs\": 4, \"tail\": 1, \"domestic\": 0, \"catsize\": 1, \"type\": 1}, {\"animal name\": \"lion\", \"hair\": 1, \"feathers\": 0, \"eggs\": 0, \"milk\": 1, \"airborne\": 0, \"aquatic\": 0, \"predator\": 1, \"toothed\": 1, \"backbone\": 1, \"breathes\": 1, \"venomous\": 0, \"fins\": 0, \"legs\": 4, \"tail\": 1, \"domestic\": 0, \"catsize\": 1, \"type\": 1}, {\"animal name\": \"lobster\", \"hair\": 0, \"feathers\": 0, \"eggs\": 1, \"milk\": 0, \"airborne\": 0, \"aquatic\": 1, \"predator\": 1, \"toothed\": 0, \"backbone\": 0, \"breathes\": 0, \"venomous\": 0, \"fins\": 0, \"legs\": 6, \"tail\": 0, \"domestic\": 0, \"catsize\": 0, \"type\": 7}, {\"animal name\": \"lynx\", \"hair\": 1, \"feathers\": 0, \"eggs\": 0, \"milk\": 1, \"airborne\": 0, \"aquatic\": 0, \"predator\": 1, \"toothed\": 1, \"backbone\": 1, \"breathes\": 1, \"venomous\": 0, \"fins\": 0, \"legs\": 4, \"tail\": 1, \"domestic\": 0, \"catsize\": 1, \"type\": 1}, {\"animal name\": \"mink\", \"hair\": 1, \"feathers\": 0, \"eggs\": 0, \"milk\": 1, \"airborne\": 0, \"aquatic\": 1, \"predator\": 1, \"toothed\": 1, \"backbone\": 1, \"breathes\": 1, \"venomous\": 0, \"fins\": 0, \"legs\": 4, \"tail\": 1, \"domestic\": 0, \"catsize\": 1, \"type\": 1}, {\"animal name\": \"mole\", \"hair\": 1, \"feathers\": 0, \"eggs\": 0, \"milk\": 1, \"airborne\": 0, \"aquatic\": 0, \"predator\": 1, \"toothed\": 1, \"backbone\": 1, \"breathes\": 1, \"venomous\": 0, \"fins\": 0, \"legs\": 4, \"tail\": 1, \"domestic\": 0, \"catsize\": 0, \"type\": 1}, {\"animal name\": \"mongoose\", \"hair\": 1, \"feathers\": 0, \"eggs\": 0, \"milk\": 1, \"airborne\": 0, \"aquatic\": 0, \"predator\": 1, \"toothed\": 1, \"backbone\": 1, \"breathes\": 1, \"venomous\": 0, \"fins\": 0, \"legs\": 4, \"tail\": 1, \"domestic\": 0, \"catsize\": 1, \"type\": 1}, {\"animal name\": \"moth\", \"hair\": 1, \"feathers\": 0, \"eggs\": 1, \"milk\": 0, \"airborne\": 1, \"aquatic\": 0, \"predator\": 0, \"toothed\": 0, \"backbone\": 0, \"breathes\": 1, \"venomous\": 0, \"fins\": 0, \"legs\": 6, \"tail\": 0, \"domestic\": 0, \"catsize\": 0, \"type\": 6}, {\"animal name\": \"newt\", \"hair\": 0, \"feathers\": 0, \"eggs\": 1, \"milk\": 0, \"airborne\": 0, \"aquatic\": 1, \"predator\": 1, \"toothed\": 1, \"backbone\": 1, \"breathes\": 1, \"venomous\": 0, \"fins\": 0, \"legs\": 4, \"tail\": 1, \"domestic\": 0, \"catsize\": 0, \"type\": 5}, {\"animal name\": \"octopus\", \"hair\": 0, \"feathers\": 0, \"eggs\": 1, \"milk\": 0, \"airborne\": 0, \"aquatic\": 1, \"predator\": 1, \"toothed\": 0, \"backbone\": 0, \"breathes\": 0, \"venomous\": 0, \"fins\": 0, \"legs\": 8, \"tail\": 0, \"domestic\": 0, \"catsize\": 1, \"type\": 7}, {\"animal name\": \"opossum\", \"hair\": 1, \"feathers\": 0, \"eggs\": 0, \"milk\": 1, \"airborne\": 0, \"aquatic\": 0, \"predator\": 1, \"toothed\": 1, \"backbone\": 1, \"breathes\": 1, \"venomous\": 0, \"fins\": 0, \"legs\": 4, \"tail\": 1, \"domestic\": 0, \"catsize\": 0, \"type\": 1}, {\"animal name\": \"oryx\", \"hair\": 1, \"feathers\": 0, \"eggs\": 0, \"milk\": 1, \"airborne\": 0, \"aquatic\": 0, \"predator\": 0, \"toothed\": 1, \"backbone\": 1, \"breathes\": 1, \"venomous\": 0, \"fins\": 0, \"legs\": 4, \"tail\": 1, \"domestic\": 0, \"catsize\": 1, \"type\": 1}, {\"animal name\": \"ostrich\", \"hair\": 0, \"feathers\": 1, \"eggs\": 1, \"milk\": 0, \"airborne\": 0, \"aquatic\": 0, \"predator\": 0, \"toothed\": 0, \"backbone\": 1, \"breathes\": 1, \"venomous\": 0, \"fins\": 0, \"legs\": 2, \"tail\": 1, \"domestic\": 0, \"catsize\": 1, \"type\": 2}, {\"animal name\": \"parakeet\", \"hair\": 0, \"feathers\": 1, \"eggs\": 1, \"milk\": 0, \"airborne\": 1, \"aquatic\": 0, \"predator\": 0, \"toothed\": 0, \"backbone\": 1, \"breathes\": 1, \"venomous\": 0, \"fins\": 0, \"legs\": 2, \"tail\": 1, \"domestic\": 1, \"catsize\": 0, \"type\": 2}, {\"animal name\": \"penguin\", \"hair\": 0, \"feathers\": 1, \"eggs\": 1, \"milk\": 0, \"airborne\": 0, \"aquatic\": 1, \"predator\": 1, \"toothed\": 0, \"backbone\": 1, \"breathes\": 1, \"venomous\": 0, \"fins\": 0, \"legs\": 2, \"tail\": 1, \"domestic\": 0, \"catsize\": 1, \"type\": 2}, {\"animal name\": \"pheasant\", \"hair\": 0, \"feathers\": 1, \"eggs\": 1, \"milk\": 0, \"airborne\": 1, \"aquatic\": 0, \"predator\": 0, \"toothed\": 0, \"backbone\": 1, \"breathes\": 1, \"venomous\": 0, \"fins\": 0, \"legs\": 2, \"tail\": 1, \"domestic\": 0, \"catsize\": 0, \"type\": 2}, {\"animal name\": \"pike\", \"hair\": 0, \"feathers\": 0, \"eggs\": 1, \"milk\": 0, \"airborne\": 0, \"aquatic\": 1, \"predator\": 1, \"toothed\": 1, \"backbone\": 1, \"breathes\": 0, \"venomous\": 0, \"fins\": 1, \"legs\": 0, \"tail\": 1, \"domestic\": 0, \"catsize\": 1, \"type\": 4}, {\"animal name\": \"piranha\", \"hair\": 0, \"feathers\": 0, \"eggs\": 1, \"milk\": 0, \"airborne\": 0, \"aquatic\": 1, \"predator\": 1, \"toothed\": 1, \"backbone\": 1, \"breathes\": 0, \"venomous\": 0, \"fins\": 1, \"legs\": 0, \"tail\": 1, \"domestic\": 0, \"catsize\": 0, \"type\": 4}, {\"animal name\": \"pitviper\", \"hair\": 0, \"feathers\": 0, \"eggs\": 1, \"milk\": 0, \"airborne\": 0, \"aquatic\": 0, \"predator\": 1, \"toothed\": 1, \"backbone\": 1, \"breathes\": 1, \"venomous\": 1, \"fins\": 0, \"legs\": 0, \"tail\": 1, \"domestic\": 0, \"catsize\": 0, \"type\": 3}, {\"animal name\": \"platypus\", \"hair\": 1, \"feathers\": 0, \"eggs\": 1, \"milk\": 1, \"airborne\": 0, \"aquatic\": 1, \"predator\": 1, \"toothed\": 0, \"backbone\": 1, \"breathes\": 1, \"venomous\": 0, \"fins\": 0, \"legs\": 4, \"tail\": 1, \"domestic\": 0, \"catsize\": 1, \"type\": 1}, {\"animal name\": \"polecat\", \"hair\": 1, \"feathers\": 0, \"eggs\": 0, \"milk\": 1, \"airborne\": 0, \"aquatic\": 0, \"predator\": 1, \"toothed\": 1, \"backbone\": 1, \"breathes\": 1, \"venomous\": 0, \"fins\": 0, \"legs\": 4, \"tail\": 1, \"domestic\": 0, \"catsize\": 1, \"type\": 1}, {\"animal name\": \"pony\", \"hair\": 1, \"feathers\": 0, \"eggs\": 0, \"milk\": 1, \"airborne\": 0, \"aquatic\": 0, \"predator\": 0, \"toothed\": 1, \"backbone\": 1, \"breathes\": 1, \"venomous\": 0, \"fins\": 0, \"legs\": 4, \"tail\": 1, \"domestic\": 1, \"catsize\": 1, \"type\": 1}, {\"animal name\": \"porpoise\", \"hair\": 0, \"feathers\": 0, \"eggs\": 0, \"milk\": 1, \"airborne\": 0, \"aquatic\": 1, \"predator\": 1, \"toothed\": 1, \"backbone\": 1, \"breathes\": 1, \"venomous\": 0, \"fins\": 1, \"legs\": 0, \"tail\": 1, \"domestic\": 0, \"catsize\": 1, \"type\": 1}, {\"animal name\": \"puma\", \"hair\": 1, \"feathers\": 0, \"eggs\": 0, \"milk\": 1, \"airborne\": 0, \"aquatic\": 0, \"predator\": 1, \"toothed\": 1, \"backbone\": 1, \"breathes\": 1, \"venomous\": 0, \"fins\": 0, \"legs\": 4, \"tail\": 1, \"domestic\": 0, \"catsize\": 1, \"type\": 1}, {\"animal name\": \"pussycat\", \"hair\": 1, \"feathers\": 0, \"eggs\": 0, \"milk\": 1, \"airborne\": 0, \"aquatic\": 0, \"predator\": 1, \"toothed\": 1, \"backbone\": 1, \"breathes\": 1, \"venomous\": 0, \"fins\": 0, \"legs\": 4, \"tail\": 1, \"domestic\": 1, \"catsize\": 1, \"type\": 1}, {\"animal name\": \"raccoon\", \"hair\": 1, \"feathers\": 0, \"eggs\": 0, \"milk\": 1, \"airborne\": 0, \"aquatic\": 0, \"predator\": 1, \"toothed\": 1, \"backbone\": 1, \"breathes\": 1, \"venomous\": 0, \"fins\": 0, \"legs\": 4, \"tail\": 1, \"domestic\": 0, \"catsize\": 1, \"type\": 1}, {\"animal name\": \"reindeer\", \"hair\": 1, \"feathers\": 0, \"eggs\": 0, \"milk\": 1, \"airborne\": 0, \"aquatic\": 0, \"predator\": 0, \"toothed\": 1, \"backbone\": 1, \"breathes\": 1, \"venomous\": 0, \"fins\": 0, \"legs\": 4, \"tail\": 1, \"domestic\": 1, \"catsize\": 1, \"type\": 1}, {\"animal name\": \"rhea\", \"hair\": 0, \"feathers\": 1, \"eggs\": 1, \"milk\": 0, \"airborne\": 0, \"aquatic\": 0, \"predator\": 1, \"toothed\": 0, \"backbone\": 1, \"breathes\": 1, \"venomous\": 0, \"fins\": 0, \"legs\": 2, \"tail\": 1, \"domestic\": 0, \"catsize\": 1, \"type\": 2}, {\"animal name\": \"scorpion\", \"hair\": 0, \"feathers\": 0, \"eggs\": 0, \"milk\": 0, \"airborne\": 0, \"aquatic\": 0, \"predator\": 1, \"toothed\": 0, \"backbone\": 0, \"breathes\": 1, \"venomous\": 1, \"fins\": 0, \"legs\": 8, \"tail\": 1, \"domestic\": 0, \"catsize\": 0, \"type\": 7}, {\"animal name\": \"seahorse\", \"hair\": 0, \"feathers\": 0, \"eggs\": 1, \"milk\": 0, \"airborne\": 0, \"aquatic\": 1, \"predator\": 0, \"toothed\": 1, \"backbone\": 1, \"breathes\": 0, \"venomous\": 0, \"fins\": 1, \"legs\": 0, \"tail\": 1, \"domestic\": 0, \"catsize\": 0, \"type\": 4}, {\"animal name\": \"seal\", \"hair\": 1, \"feathers\": 0, \"eggs\": 0, \"milk\": 1, \"airborne\": 0, \"aquatic\": 1, \"predator\": 1, \"toothed\": 1, \"backbone\": 1, \"breathes\": 1, \"venomous\": 0, \"fins\": 1, \"legs\": 0, \"tail\": 0, \"domestic\": 0, \"catsize\": 1, \"type\": 1}, {\"animal name\": \"sealion\", \"hair\": 1, \"feathers\": 0, \"eggs\": 0, \"milk\": 1, \"airborne\": 0, \"aquatic\": 1, \"predator\": 1, \"toothed\": 1, \"backbone\": 1, \"breathes\": 1, \"venomous\": 0, \"fins\": 1, \"legs\": 2, \"tail\": 1, \"domestic\": 0, \"catsize\": 1, \"type\": 1}, {\"animal name\": \"seasnake\", \"hair\": 0, \"feathers\": 0, \"eggs\": 0, \"milk\": 0, \"airborne\": 0, \"aquatic\": 1, \"predator\": 1, \"toothed\": 1, \"backbone\": 1, \"breathes\": 0, \"venomous\": 1, \"fins\": 0, \"legs\": 0, \"tail\": 1, \"domestic\": 0, \"catsize\": 0, \"type\": 3}, {\"animal name\": \"seawasp\", \"hair\": 0, \"feathers\": 0, \"eggs\": 1, \"milk\": 0, \"airborne\": 0, \"aquatic\": 1, \"predator\": 1, \"toothed\": 0, \"backbone\": 0, \"breathes\": 0, \"venomous\": 1, \"fins\": 0, \"legs\": 0, \"tail\": 0, \"domestic\": 0, \"catsize\": 0, \"type\": 7}, {\"animal name\": \"skimmer\", \"hair\": 0, \"feathers\": 1, \"eggs\": 1, \"milk\": 0, \"airborne\": 1, \"aquatic\": 1, \"predator\": 1, \"toothed\": 0, \"backbone\": 1, \"breathes\": 1, \"venomous\": 0, \"fins\": 0, \"legs\": 2, \"tail\": 1, \"domestic\": 0, \"catsize\": 0, \"type\": 2}, {\"animal name\": \"skua\", \"hair\": 0, \"feathers\": 1, \"eggs\": 1, \"milk\": 0, \"airborne\": 1, \"aquatic\": 1, \"predator\": 1, \"toothed\": 0, \"backbone\": 1, \"breathes\": 1, \"venomous\": 0, \"fins\": 0, \"legs\": 2, \"tail\": 1, \"domestic\": 0, \"catsize\": 0, \"type\": 2}, {\"animal name\": \"slowworm\", \"hair\": 0, \"feathers\": 0, \"eggs\": 1, \"milk\": 0, \"airborne\": 0, \"aquatic\": 0, \"predator\": 1, \"toothed\": 1, \"backbone\": 1, \"breathes\": 1, \"venomous\": 0, \"fins\": 0, \"legs\": 0, \"tail\": 1, \"domestic\": 0, \"catsize\": 0, \"type\": 3}, {\"animal name\": \"slug\", \"hair\": 0, \"feathers\": 0, \"eggs\": 1, \"milk\": 0, \"airborne\": 0, \"aquatic\": 0, \"predator\": 0, \"toothed\": 0, \"backbone\": 0, \"breathes\": 1, \"venomous\": 0, \"fins\": 0, \"legs\": 0, \"tail\": 0, \"domestic\": 0, \"catsize\": 0, \"type\": 7}, {\"animal name\": \"sole\", \"hair\": 0, \"feathers\": 0, \"eggs\": 1, \"milk\": 0, \"airborne\": 0, \"aquatic\": 1, \"predator\": 0, \"toothed\": 1, \"backbone\": 1, \"breathes\": 0, \"venomous\": 0, \"fins\": 1, \"legs\": 0, \"tail\": 1, \"domestic\": 0, \"catsize\": 0, \"type\": 4}, {\"animal name\": \"sparrow\", \"hair\": 0, \"feathers\": 1, \"eggs\": 1, \"milk\": 0, \"airborne\": 1, \"aquatic\": 0, \"predator\": 0, \"toothed\": 0, \"backbone\": 1, \"breathes\": 1, \"venomous\": 0, \"fins\": 0, \"legs\": 2, \"tail\": 1, \"domestic\": 0, \"catsize\": 0, \"type\": 2}, {\"animal name\": \"squirrel\", \"hair\": 1, \"feathers\": 0, \"eggs\": 0, \"milk\": 1, \"airborne\": 0, \"aquatic\": 0, \"predator\": 0, \"toothed\": 1, \"backbone\": 1, \"breathes\": 1, \"venomous\": 0, \"fins\": 0, \"legs\": 2, \"tail\": 1, \"domestic\": 0, \"catsize\": 0, \"type\": 1}, {\"animal name\": \"starfish\", \"hair\": 0, \"feathers\": 0, \"eggs\": 1, \"milk\": 0, \"airborne\": 0, \"aquatic\": 1, \"predator\": 1, \"toothed\": 0, \"backbone\": 0, \"breathes\": 0, \"venomous\": 0, \"fins\": 0, \"legs\": 5, \"tail\": 0, \"domestic\": 0, \"catsize\": 0, \"type\": 7}, {\"animal name\": \"stingray\", \"hair\": 0, \"feathers\": 0, \"eggs\": 1, \"milk\": 0, \"airborne\": 0, \"aquatic\": 1, \"predator\": 1, \"toothed\": 1, \"backbone\": 1, \"breathes\": 0, \"venomous\": 1, \"fins\": 1, \"legs\": 0, \"tail\": 1, \"domestic\": 0, \"catsize\": 1, \"type\": 4}, {\"animal name\": \"swan\", \"hair\": 0, \"feathers\": 1, \"eggs\": 1, \"milk\": 0, \"airborne\": 1, \"aquatic\": 1, \"predator\": 0, \"toothed\": 0, \"backbone\": 1, \"breathes\": 1, \"venomous\": 0, \"fins\": 0, \"legs\": 2, \"tail\": 1, \"domestic\": 0, \"catsize\": 1, \"type\": 2}, {\"animal name\": \"termite\", \"hair\": 0, \"feathers\": 0, \"eggs\": 1, \"milk\": 0, \"airborne\": 0, \"aquatic\": 0, \"predator\": 0, \"toothed\": 0, \"backbone\": 0, \"breathes\": 1, \"venomous\": 0, \"fins\": 0, \"legs\": 6, \"tail\": 0, \"domestic\": 0, \"catsize\": 0, \"type\": 6}, {\"animal name\": \"toad\", \"hair\": 0, \"feathers\": 0, \"eggs\": 1, \"milk\": 0, \"airborne\": 0, \"aquatic\": 1, \"predator\": 0, \"toothed\": 1, \"backbone\": 1, \"breathes\": 1, \"venomous\": 0, \"fins\": 0, \"legs\": 4, \"tail\": 0, \"domestic\": 0, \"catsize\": 0, \"type\": 5}, {\"animal name\": \"tortoise\", \"hair\": 0, \"feathers\": 0, \"eggs\": 1, \"milk\": 0, \"airborne\": 0, \"aquatic\": 0, \"predator\": 0, \"toothed\": 0, \"backbone\": 1, \"breathes\": 1, \"venomous\": 0, \"fins\": 0, \"legs\": 4, \"tail\": 1, \"domestic\": 0, \"catsize\": 1, \"type\": 3}, {\"animal name\": \"tuatara\", \"hair\": 0, \"feathers\": 0, \"eggs\": 1, \"milk\": 0, \"airborne\": 0, \"aquatic\": 0, \"predator\": 1, \"toothed\": 1, \"backbone\": 1, \"breathes\": 1, \"venomous\": 0, \"fins\": 0, \"legs\": 4, \"tail\": 1, \"domestic\": 0, \"catsize\": 0, \"type\": 3}, {\"animal name\": \"tuna\", \"hair\": 0, \"feathers\": 0, \"eggs\": 1, \"milk\": 0, \"airborne\": 0, \"aquatic\": 1, \"predator\": 1, \"toothed\": 1, \"backbone\": 1, \"breathes\": 0, \"venomous\": 0, \"fins\": 1, \"legs\": 0, \"tail\": 1, \"domestic\": 0, \"catsize\": 1, \"type\": 4}, {\"animal name\": \"vampire\", \"hair\": 1, \"feathers\": 0, \"eggs\": 0, \"milk\": 1, \"airborne\": 1, \"aquatic\": 0, \"predator\": 0, \"toothed\": 1, \"backbone\": 1, \"breathes\": 1, \"venomous\": 0, \"fins\": 0, \"legs\": 2, \"tail\": 1, \"domestic\": 0, \"catsize\": 0, \"type\": 1}, {\"animal name\": \"vole\", \"hair\": 1, \"feathers\": 0, \"eggs\": 0, \"milk\": 1, \"airborne\": 0, \"aquatic\": 0, \"predator\": 0, \"toothed\": 1, \"backbone\": 1, \"breathes\": 1, \"venomous\": 0, \"fins\": 0, \"legs\": 4, \"tail\": 1, \"domestic\": 0, \"catsize\": 0, \"type\": 1}, {\"animal name\": \"vulture\", \"hair\": 0, \"feathers\": 1, \"eggs\": 1, \"milk\": 0, \"airborne\": 1, \"aquatic\": 0, \"predator\": 1, \"toothed\": 0, \"backbone\": 1, \"breathes\": 1, \"venomous\": 0, \"fins\": 0, \"legs\": 2, \"tail\": 1, \"domestic\": 0, \"catsize\": 1, \"type\": 2}, {\"animal name\": \"wallaby\", \"hair\": 1, \"feathers\": 0, \"eggs\": 0, \"milk\": 1, \"airborne\": 0, \"aquatic\": 0, \"predator\": 0, \"toothed\": 1, \"backbone\": 1, \"breathes\": 1, \"venomous\": 0, \"fins\": 0, \"legs\": 2, \"tail\": 1, \"domestic\": 0, \"catsize\": 1, \"type\": 1}, {\"animal name\": \"wasp\", \"hair\": 1, \"feathers\": 0, \"eggs\": 1, \"milk\": 0, \"airborne\": 1, \"aquatic\": 0, \"predator\": 0, \"toothed\": 0, \"backbone\": 0, \"breathes\": 1, \"venomous\": 1, \"fins\": 0, \"legs\": 6, \"tail\": 0, \"domestic\": 0, \"catsize\": 0, \"type\": 6}, {\"animal name\": \"wolf\", \"hair\": 1, \"feathers\": 0, \"eggs\": 0, \"milk\": 1, \"airborne\": 0, \"aquatic\": 0, \"predator\": 1, \"toothed\": 1, \"backbone\": 1, \"breathes\": 1, \"venomous\": 0, \"fins\": 0, \"legs\": 4, \"tail\": 1, \"domestic\": 0, \"catsize\": 1, \"type\": 1}, {\"animal name\": \"worm\", \"hair\": 0, \"feathers\": 0, \"eggs\": 1, \"milk\": 0, \"airborne\": 0, \"aquatic\": 0, \"predator\": 0, \"toothed\": 0, \"backbone\": 0, \"breathes\": 1, \"venomous\": 0, \"fins\": 0, \"legs\": 0, \"tail\": 0, \"domestic\": 0, \"catsize\": 0, \"type\": 7}, {\"animal name\": \"wren\", \"hair\": 0, \"feathers\": 1, \"eggs\": 1, \"milk\": 0, \"airborne\": 1, \"aquatic\": 0, \"predator\": 0, \"toothed\": 0, \"backbone\": 1, \"breathes\": 1, \"venomous\": 0, \"fins\": 0, \"legs\": 2, \"tail\": 1, \"domestic\": 0, \"catsize\": 0, \"type\": 2}]}}, {\"mode\": \"vega-lite\"});\n",
       "</script>"
      ],
      "text/plain": [
       "alt.Chart(...)"
      ]
     },
     "execution_count": 52,
     "metadata": {},
     "output_type": "execute_result"
    }
   ],
   "source": [
    "plot_01"
   ]
  },
  {
   "cell_type": "markdown",
   "metadata": {},
   "source": [
    "#### Bokeh"
   ]
  },
  {
   "cell_type": "code",
   "execution_count": null,
   "metadata": {},
   "outputs": [],
   "source": []
  },
  {
   "cell_type": "markdown",
   "metadata": {},
   "source": [
    "#### Plotly"
   ]
  },
  {
   "cell_type": "code",
   "execution_count": null,
   "metadata": {},
   "outputs": [],
   "source": []
  },
  {
   "cell_type": "markdown",
   "metadata": {},
   "source": [
    "### Gráfico de barras"
   ]
  },
  {
   "cell_type": "markdown",
   "metadata": {},
   "source": [
    "#### Matplotlib"
   ]
  },
  {
   "cell_type": "code",
   "execution_count": null,
   "metadata": {},
   "outputs": [],
   "source": []
  },
  {
   "cell_type": "markdown",
   "metadata": {},
   "source": [
    "#### Seaborn"
   ]
  },
  {
   "cell_type": "code",
   "execution_count": null,
   "metadata": {},
   "outputs": [],
   "source": []
  },
  {
   "cell_type": "markdown",
   "metadata": {},
   "source": [
    "#### Altair"
   ]
  },
  {
   "cell_type": "code",
   "execution_count": 53,
   "metadata": {
    "ExecuteTime": {
     "end_time": "2021-06-06T19:14:22.057461Z",
     "start_time": "2021-06-06T19:14:21.798346Z"
    }
   },
   "outputs": [],
   "source": [
    "plot_02 = alt.Chart(df).mark_bar().encode(\n",
    "    x = 'animal name',\n",
    "    y = 'legs'\n",
    ")"
   ]
  },
  {
   "cell_type": "code",
   "execution_count": 54,
   "metadata": {
    "ExecuteTime": {
     "end_time": "2021-06-06T19:14:25.328142Z",
     "start_time": "2021-06-06T19:14:25.125763Z"
    }
   },
   "outputs": [
    {
     "data": {
      "text/html": [
       "\n",
       "<div id=\"altair-viz-3eda795146b9414c8d5ab85170688b0f\"></div>\n",
       "<script type=\"text/javascript\">\n",
       "  (function(spec, embedOpt){\n",
       "    let outputDiv = document.currentScript.previousElementSibling;\n",
       "    if (outputDiv.id !== \"altair-viz-3eda795146b9414c8d5ab85170688b0f\") {\n",
       "      outputDiv = document.getElementById(\"altair-viz-3eda795146b9414c8d5ab85170688b0f\");\n",
       "    }\n",
       "    const paths = {\n",
       "      \"vega\": \"https://cdn.jsdelivr.net/npm//vega@5?noext\",\n",
       "      \"vega-lib\": \"https://cdn.jsdelivr.net/npm//vega-lib?noext\",\n",
       "      \"vega-lite\": \"https://cdn.jsdelivr.net/npm//vega-lite@4.8.1?noext\",\n",
       "      \"vega-embed\": \"https://cdn.jsdelivr.net/npm//vega-embed@6?noext\",\n",
       "    };\n",
       "\n",
       "    function loadScript(lib) {\n",
       "      return new Promise(function(resolve, reject) {\n",
       "        var s = document.createElement('script');\n",
       "        s.src = paths[lib];\n",
       "        s.async = true;\n",
       "        s.onload = () => resolve(paths[lib]);\n",
       "        s.onerror = () => reject(`Error loading script: ${paths[lib]}`);\n",
       "        document.getElementsByTagName(\"head\")[0].appendChild(s);\n",
       "      });\n",
       "    }\n",
       "\n",
       "    function showError(err) {\n",
       "      outputDiv.innerHTML = `<div class=\"error\" style=\"color:red;\">${err}</div>`;\n",
       "      throw err;\n",
       "    }\n",
       "\n",
       "    function displayChart(vegaEmbed) {\n",
       "      vegaEmbed(outputDiv, spec, embedOpt)\n",
       "        .catch(err => showError(`Javascript Error: ${err.message}<br>This usually means there's a typo in your chart specification. See the javascript console for the full traceback.`));\n",
       "    }\n",
       "\n",
       "    if(typeof define === \"function\" && define.amd) {\n",
       "      requirejs.config({paths});\n",
       "      require([\"vega-embed\"], displayChart, err => showError(`Error loading script: ${err.message}`));\n",
       "    } else if (typeof vegaEmbed === \"function\") {\n",
       "      displayChart(vegaEmbed);\n",
       "    } else {\n",
       "      loadScript(\"vega\")\n",
       "        .then(() => loadScript(\"vega-lite\"))\n",
       "        .then(() => loadScript(\"vega-embed\"))\n",
       "        .catch(showError)\n",
       "        .then(() => displayChart(vegaEmbed));\n",
       "    }\n",
       "  })({\"config\": {\"view\": {\"continuousWidth\": 400, \"continuousHeight\": 300}}, \"data\": {\"name\": \"data-36bba0743824d22ff0b0058f7689d6ff\"}, \"mark\": \"bar\", \"encoding\": {\"x\": {\"type\": \"nominal\", \"field\": \"animal name\"}, \"y\": {\"type\": \"quantitative\", \"field\": \"legs\"}}, \"$schema\": \"https://vega.github.io/schema/vega-lite/v4.8.1.json\", \"datasets\": {\"data-36bba0743824d22ff0b0058f7689d6ff\": [{\"animal name\": \"antelope\", \"hair\": 1, \"feathers\": 0, \"eggs\": 0, \"milk\": 1, \"airborne\": 0, \"aquatic\": 0, \"predator\": 0, \"toothed\": 1, \"backbone\": 1, \"breathes\": 1, \"venomous\": 0, \"fins\": 0, \"legs\": 4, \"tail\": 1, \"domestic\": 0, \"catsize\": 1, \"type\": 1}, {\"animal name\": \"bass\", \"hair\": 0, \"feathers\": 0, \"eggs\": 1, \"milk\": 0, \"airborne\": 0, \"aquatic\": 1, \"predator\": 1, \"toothed\": 1, \"backbone\": 1, \"breathes\": 0, \"venomous\": 0, \"fins\": 1, \"legs\": 0, \"tail\": 1, \"domestic\": 0, \"catsize\": 0, \"type\": 4}, {\"animal name\": \"bear\", \"hair\": 1, \"feathers\": 0, \"eggs\": 0, \"milk\": 1, \"airborne\": 0, \"aquatic\": 0, \"predator\": 1, \"toothed\": 1, \"backbone\": 1, \"breathes\": 1, \"venomous\": 0, \"fins\": 0, \"legs\": 4, \"tail\": 0, \"domestic\": 0, \"catsize\": 1, \"type\": 1}, {\"animal name\": \"boar\", \"hair\": 1, \"feathers\": 0, \"eggs\": 0, \"milk\": 1, \"airborne\": 0, \"aquatic\": 0, \"predator\": 1, \"toothed\": 1, \"backbone\": 1, \"breathes\": 1, \"venomous\": 0, \"fins\": 0, \"legs\": 4, \"tail\": 1, \"domestic\": 0, \"catsize\": 1, \"type\": 1}, {\"animal name\": \"buffalo\", \"hair\": 1, \"feathers\": 0, \"eggs\": 0, \"milk\": 1, \"airborne\": 0, \"aquatic\": 0, \"predator\": 0, \"toothed\": 1, \"backbone\": 1, \"breathes\": 1, \"venomous\": 0, \"fins\": 0, \"legs\": 4, \"tail\": 1, \"domestic\": 0, \"catsize\": 1, \"type\": 1}, {\"animal name\": \"calf\", \"hair\": 1, \"feathers\": 0, \"eggs\": 0, \"milk\": 1, \"airborne\": 0, \"aquatic\": 0, \"predator\": 0, \"toothed\": 1, \"backbone\": 1, \"breathes\": 1, \"venomous\": 0, \"fins\": 0, \"legs\": 4, \"tail\": 1, \"domestic\": 1, \"catsize\": 1, \"type\": 1}, {\"animal name\": \"carp\", \"hair\": 0, \"feathers\": 0, \"eggs\": 1, \"milk\": 0, \"airborne\": 0, \"aquatic\": 1, \"predator\": 0, \"toothed\": 1, \"backbone\": 1, \"breathes\": 0, \"venomous\": 0, \"fins\": 1, \"legs\": 0, \"tail\": 1, \"domestic\": 1, \"catsize\": 0, \"type\": 4}, {\"animal name\": \"catfish\", \"hair\": 0, \"feathers\": 0, \"eggs\": 1, \"milk\": 0, \"airborne\": 0, \"aquatic\": 1, \"predator\": 1, \"toothed\": 1, \"backbone\": 1, \"breathes\": 0, \"venomous\": 0, \"fins\": 1, \"legs\": 0, \"tail\": 1, \"domestic\": 0, \"catsize\": 0, \"type\": 4}, {\"animal name\": \"cavy\", \"hair\": 1, \"feathers\": 0, \"eggs\": 0, \"milk\": 1, \"airborne\": 0, \"aquatic\": 0, \"predator\": 0, \"toothed\": 1, \"backbone\": 1, \"breathes\": 1, \"venomous\": 0, \"fins\": 0, \"legs\": 4, \"tail\": 0, \"domestic\": 1, \"catsize\": 0, \"type\": 1}, {\"animal name\": \"cheetah\", \"hair\": 1, \"feathers\": 0, \"eggs\": 0, \"milk\": 1, \"airborne\": 0, \"aquatic\": 0, \"predator\": 1, \"toothed\": 1, \"backbone\": 1, \"breathes\": 1, \"venomous\": 0, \"fins\": 0, \"legs\": 4, \"tail\": 1, \"domestic\": 0, \"catsize\": 1, \"type\": 1}, {\"animal name\": \"chicken\", \"hair\": 0, \"feathers\": 1, \"eggs\": 1, \"milk\": 0, \"airborne\": 1, \"aquatic\": 0, \"predator\": 0, \"toothed\": 0, \"backbone\": 1, \"breathes\": 1, \"venomous\": 0, \"fins\": 0, \"legs\": 2, \"tail\": 1, \"domestic\": 1, \"catsize\": 0, \"type\": 2}, {\"animal name\": \"chub\", \"hair\": 0, \"feathers\": 0, \"eggs\": 1, \"milk\": 0, \"airborne\": 0, \"aquatic\": 1, \"predator\": 1, \"toothed\": 1, \"backbone\": 1, \"breathes\": 0, \"venomous\": 0, \"fins\": 1, \"legs\": 0, \"tail\": 1, \"domestic\": 0, \"catsize\": 0, \"type\": 4}, {\"animal name\": \"clam\", \"hair\": 0, \"feathers\": 0, \"eggs\": 1, \"milk\": 0, \"airborne\": 0, \"aquatic\": 0, \"predator\": 1, \"toothed\": 0, \"backbone\": 0, \"breathes\": 0, \"venomous\": 0, \"fins\": 0, \"legs\": 0, \"tail\": 0, \"domestic\": 0, \"catsize\": 0, \"type\": 7}, {\"animal name\": \"crab\", \"hair\": 0, \"feathers\": 0, \"eggs\": 1, \"milk\": 0, \"airborne\": 0, \"aquatic\": 1, \"predator\": 1, \"toothed\": 0, \"backbone\": 0, \"breathes\": 0, \"venomous\": 0, \"fins\": 0, \"legs\": 4, \"tail\": 0, \"domestic\": 0, \"catsize\": 0, \"type\": 7}, {\"animal name\": \"crayfish\", \"hair\": 0, \"feathers\": 0, \"eggs\": 1, \"milk\": 0, \"airborne\": 0, \"aquatic\": 1, \"predator\": 1, \"toothed\": 0, \"backbone\": 0, \"breathes\": 0, \"venomous\": 0, \"fins\": 0, \"legs\": 6, \"tail\": 0, \"domestic\": 0, \"catsize\": 0, \"type\": 7}, {\"animal name\": \"crow\", \"hair\": 0, \"feathers\": 1, \"eggs\": 1, \"milk\": 0, \"airborne\": 1, \"aquatic\": 0, \"predator\": 1, \"toothed\": 0, \"backbone\": 1, \"breathes\": 1, \"venomous\": 0, \"fins\": 0, \"legs\": 2, \"tail\": 1, \"domestic\": 0, \"catsize\": 0, \"type\": 2}, {\"animal name\": \"deer\", \"hair\": 1, \"feathers\": 0, \"eggs\": 0, \"milk\": 1, \"airborne\": 0, \"aquatic\": 0, \"predator\": 0, \"toothed\": 1, \"backbone\": 1, \"breathes\": 1, \"venomous\": 0, \"fins\": 0, \"legs\": 4, \"tail\": 1, \"domestic\": 0, \"catsize\": 1, \"type\": 1}, {\"animal name\": \"dogfish\", \"hair\": 0, \"feathers\": 0, \"eggs\": 1, \"milk\": 0, \"airborne\": 0, \"aquatic\": 1, \"predator\": 1, \"toothed\": 1, \"backbone\": 1, \"breathes\": 0, \"venomous\": 0, \"fins\": 1, \"legs\": 0, \"tail\": 1, \"domestic\": 0, \"catsize\": 1, \"type\": 4}, {\"animal name\": \"dolphin\", \"hair\": 0, \"feathers\": 0, \"eggs\": 0, \"milk\": 1, \"airborne\": 0, \"aquatic\": 1, \"predator\": 1, \"toothed\": 1, \"backbone\": 1, \"breathes\": 1, \"venomous\": 0, \"fins\": 1, \"legs\": 0, \"tail\": 1, \"domestic\": 0, \"catsize\": 1, \"type\": 1}, {\"animal name\": \"dove\", \"hair\": 0, \"feathers\": 1, \"eggs\": 1, \"milk\": 0, \"airborne\": 1, \"aquatic\": 0, \"predator\": 0, \"toothed\": 0, \"backbone\": 1, \"breathes\": 1, \"venomous\": 0, \"fins\": 0, \"legs\": 2, \"tail\": 1, \"domestic\": 1, \"catsize\": 0, \"type\": 2}, {\"animal name\": \"duck\", \"hair\": 0, \"feathers\": 1, \"eggs\": 1, \"milk\": 0, \"airborne\": 1, \"aquatic\": 1, \"predator\": 0, \"toothed\": 0, \"backbone\": 1, \"breathes\": 1, \"venomous\": 0, \"fins\": 0, \"legs\": 2, \"tail\": 1, \"domestic\": 0, \"catsize\": 0, \"type\": 2}, {\"animal name\": \"elephant\", \"hair\": 1, \"feathers\": 0, \"eggs\": 0, \"milk\": 1, \"airborne\": 0, \"aquatic\": 0, \"predator\": 0, \"toothed\": 1, \"backbone\": 1, \"breathes\": 1, \"venomous\": 0, \"fins\": 0, \"legs\": 4, \"tail\": 1, \"domestic\": 0, \"catsize\": 1, \"type\": 1}, {\"animal name\": \"flamingo\", \"hair\": 0, \"feathers\": 1, \"eggs\": 1, \"milk\": 0, \"airborne\": 1, \"aquatic\": 0, \"predator\": 0, \"toothed\": 0, \"backbone\": 1, \"breathes\": 1, \"venomous\": 0, \"fins\": 0, \"legs\": 2, \"tail\": 1, \"domestic\": 0, \"catsize\": 1, \"type\": 2}, {\"animal name\": \"flea\", \"hair\": 0, \"feathers\": 0, \"eggs\": 1, \"milk\": 0, \"airborne\": 0, \"aquatic\": 0, \"predator\": 0, \"toothed\": 0, \"backbone\": 0, \"breathes\": 1, \"venomous\": 0, \"fins\": 0, \"legs\": 6, \"tail\": 0, \"domestic\": 0, \"catsize\": 0, \"type\": 6}, {\"animal name\": \"frog\", \"hair\": 0, \"feathers\": 0, \"eggs\": 1, \"milk\": 0, \"airborne\": 0, \"aquatic\": 1, \"predator\": 1, \"toothed\": 1, \"backbone\": 1, \"breathes\": 1, \"venomous\": 0, \"fins\": 0, \"legs\": 4, \"tail\": 0, \"domestic\": 0, \"catsize\": 0, \"type\": 5}, {\"animal name\": \"frog\", \"hair\": 0, \"feathers\": 0, \"eggs\": 1, \"milk\": 0, \"airborne\": 0, \"aquatic\": 1, \"predator\": 1, \"toothed\": 1, \"backbone\": 1, \"breathes\": 1, \"venomous\": 1, \"fins\": 0, \"legs\": 4, \"tail\": 0, \"domestic\": 0, \"catsize\": 0, \"type\": 5}, {\"animal name\": \"fruitbat\", \"hair\": 1, \"feathers\": 0, \"eggs\": 0, \"milk\": 1, \"airborne\": 1, \"aquatic\": 0, \"predator\": 0, \"toothed\": 1, \"backbone\": 1, \"breathes\": 1, \"venomous\": 0, \"fins\": 0, \"legs\": 2, \"tail\": 1, \"domestic\": 0, \"catsize\": 0, \"type\": 1}, {\"animal name\": \"giraffe\", \"hair\": 1, \"feathers\": 0, \"eggs\": 0, \"milk\": 1, \"airborne\": 0, \"aquatic\": 0, \"predator\": 0, \"toothed\": 1, \"backbone\": 1, \"breathes\": 1, \"venomous\": 0, \"fins\": 0, \"legs\": 4, \"tail\": 1, \"domestic\": 0, \"catsize\": 1, \"type\": 1}, {\"animal name\": \"girl\", \"hair\": 1, \"feathers\": 0, \"eggs\": 0, \"milk\": 1, \"airborne\": 0, \"aquatic\": 0, \"predator\": 1, \"toothed\": 1, \"backbone\": 1, \"breathes\": 1, \"venomous\": 0, \"fins\": 0, \"legs\": 2, \"tail\": 0, \"domestic\": 1, \"catsize\": 1, \"type\": 1}, {\"animal name\": \"gnat\", \"hair\": 0, \"feathers\": 0, \"eggs\": 1, \"milk\": 0, \"airborne\": 1, \"aquatic\": 0, \"predator\": 0, \"toothed\": 0, \"backbone\": 0, \"breathes\": 1, \"venomous\": 0, \"fins\": 0, \"legs\": 6, \"tail\": 0, \"domestic\": 0, \"catsize\": 0, \"type\": 6}, {\"animal name\": \"goat\", \"hair\": 1, \"feathers\": 0, \"eggs\": 0, \"milk\": 1, \"airborne\": 0, \"aquatic\": 0, \"predator\": 0, \"toothed\": 1, \"backbone\": 1, \"breathes\": 1, \"venomous\": 0, \"fins\": 0, \"legs\": 4, \"tail\": 1, \"domestic\": 1, \"catsize\": 1, \"type\": 1}, {\"animal name\": \"gorilla\", \"hair\": 1, \"feathers\": 0, \"eggs\": 0, \"milk\": 1, \"airborne\": 0, \"aquatic\": 0, \"predator\": 0, \"toothed\": 1, \"backbone\": 1, \"breathes\": 1, \"venomous\": 0, \"fins\": 0, \"legs\": 2, \"tail\": 0, \"domestic\": 0, \"catsize\": 1, \"type\": 1}, {\"animal name\": \"gull\", \"hair\": 0, \"feathers\": 1, \"eggs\": 1, \"milk\": 0, \"airborne\": 1, \"aquatic\": 1, \"predator\": 1, \"toothed\": 0, \"backbone\": 1, \"breathes\": 1, \"venomous\": 0, \"fins\": 0, \"legs\": 2, \"tail\": 1, \"domestic\": 0, \"catsize\": 0, \"type\": 2}, {\"animal name\": \"haddock\", \"hair\": 0, \"feathers\": 0, \"eggs\": 1, \"milk\": 0, \"airborne\": 0, \"aquatic\": 1, \"predator\": 0, \"toothed\": 1, \"backbone\": 1, \"breathes\": 0, \"venomous\": 0, \"fins\": 1, \"legs\": 0, \"tail\": 1, \"domestic\": 0, \"catsize\": 0, \"type\": 4}, {\"animal name\": \"hamster\", \"hair\": 1, \"feathers\": 0, \"eggs\": 0, \"milk\": 1, \"airborne\": 0, \"aquatic\": 0, \"predator\": 0, \"toothed\": 1, \"backbone\": 1, \"breathes\": 1, \"venomous\": 0, \"fins\": 0, \"legs\": 4, \"tail\": 1, \"domestic\": 1, \"catsize\": 0, \"type\": 1}, {\"animal name\": \"hare\", \"hair\": 1, \"feathers\": 0, \"eggs\": 0, \"milk\": 1, \"airborne\": 0, \"aquatic\": 0, \"predator\": 0, \"toothed\": 1, \"backbone\": 1, \"breathes\": 1, \"venomous\": 0, \"fins\": 0, \"legs\": 4, \"tail\": 1, \"domestic\": 0, \"catsize\": 0, \"type\": 1}, {\"animal name\": \"hawk\", \"hair\": 0, \"feathers\": 1, \"eggs\": 1, \"milk\": 0, \"airborne\": 1, \"aquatic\": 0, \"predator\": 1, \"toothed\": 0, \"backbone\": 1, \"breathes\": 1, \"venomous\": 0, \"fins\": 0, \"legs\": 2, \"tail\": 1, \"domestic\": 0, \"catsize\": 0, \"type\": 2}, {\"animal name\": \"herring\", \"hair\": 0, \"feathers\": 0, \"eggs\": 1, \"milk\": 0, \"airborne\": 0, \"aquatic\": 1, \"predator\": 1, \"toothed\": 1, \"backbone\": 1, \"breathes\": 0, \"venomous\": 0, \"fins\": 1, \"legs\": 0, \"tail\": 1, \"domestic\": 0, \"catsize\": 0, \"type\": 4}, {\"animal name\": \"honeybee\", \"hair\": 1, \"feathers\": 0, \"eggs\": 1, \"milk\": 0, \"airborne\": 1, \"aquatic\": 0, \"predator\": 0, \"toothed\": 0, \"backbone\": 0, \"breathes\": 1, \"venomous\": 1, \"fins\": 0, \"legs\": 6, \"tail\": 0, \"domestic\": 1, \"catsize\": 0, \"type\": 6}, {\"animal name\": \"housefly\", \"hair\": 1, \"feathers\": 0, \"eggs\": 1, \"milk\": 0, \"airborne\": 1, \"aquatic\": 0, \"predator\": 0, \"toothed\": 0, \"backbone\": 0, \"breathes\": 1, \"venomous\": 0, \"fins\": 0, \"legs\": 6, \"tail\": 0, \"domestic\": 0, \"catsize\": 0, \"type\": 6}, {\"animal name\": \"kiwi\", \"hair\": 0, \"feathers\": 1, \"eggs\": 1, \"milk\": 0, \"airborne\": 0, \"aquatic\": 0, \"predator\": 1, \"toothed\": 0, \"backbone\": 1, \"breathes\": 1, \"venomous\": 0, \"fins\": 0, \"legs\": 2, \"tail\": 1, \"domestic\": 0, \"catsize\": 0, \"type\": 2}, {\"animal name\": \"ladybird\", \"hair\": 0, \"feathers\": 0, \"eggs\": 1, \"milk\": 0, \"airborne\": 1, \"aquatic\": 0, \"predator\": 1, \"toothed\": 0, \"backbone\": 0, \"breathes\": 1, \"venomous\": 0, \"fins\": 0, \"legs\": 6, \"tail\": 0, \"domestic\": 0, \"catsize\": 0, \"type\": 6}, {\"animal name\": \"lark\", \"hair\": 0, \"feathers\": 1, \"eggs\": 1, \"milk\": 0, \"airborne\": 1, \"aquatic\": 0, \"predator\": 0, \"toothed\": 0, \"backbone\": 1, \"breathes\": 1, \"venomous\": 0, \"fins\": 0, \"legs\": 2, \"tail\": 1, \"domestic\": 0, \"catsize\": 0, \"type\": 2}, {\"animal name\": \"leopard\", \"hair\": 1, \"feathers\": 0, \"eggs\": 0, \"milk\": 1, \"airborne\": 0, \"aquatic\": 0, \"predator\": 1, \"toothed\": 1, \"backbone\": 1, \"breathes\": 1, \"venomous\": 0, \"fins\": 0, \"legs\": 4, \"tail\": 1, \"domestic\": 0, \"catsize\": 1, \"type\": 1}, {\"animal name\": \"lion\", \"hair\": 1, \"feathers\": 0, \"eggs\": 0, \"milk\": 1, \"airborne\": 0, \"aquatic\": 0, \"predator\": 1, \"toothed\": 1, \"backbone\": 1, \"breathes\": 1, \"venomous\": 0, \"fins\": 0, \"legs\": 4, \"tail\": 1, \"domestic\": 0, \"catsize\": 1, \"type\": 1}, {\"animal name\": \"lobster\", \"hair\": 0, \"feathers\": 0, \"eggs\": 1, \"milk\": 0, \"airborne\": 0, \"aquatic\": 1, \"predator\": 1, \"toothed\": 0, \"backbone\": 0, \"breathes\": 0, \"venomous\": 0, \"fins\": 0, \"legs\": 6, \"tail\": 0, \"domestic\": 0, \"catsize\": 0, \"type\": 7}, {\"animal name\": \"lynx\", \"hair\": 1, \"feathers\": 0, \"eggs\": 0, \"milk\": 1, \"airborne\": 0, \"aquatic\": 0, \"predator\": 1, \"toothed\": 1, \"backbone\": 1, \"breathes\": 1, \"venomous\": 0, \"fins\": 0, \"legs\": 4, \"tail\": 1, \"domestic\": 0, \"catsize\": 1, \"type\": 1}, {\"animal name\": \"mink\", \"hair\": 1, \"feathers\": 0, \"eggs\": 0, \"milk\": 1, \"airborne\": 0, \"aquatic\": 1, \"predator\": 1, \"toothed\": 1, \"backbone\": 1, \"breathes\": 1, \"venomous\": 0, \"fins\": 0, \"legs\": 4, \"tail\": 1, \"domestic\": 0, \"catsize\": 1, \"type\": 1}, {\"animal name\": \"mole\", \"hair\": 1, \"feathers\": 0, \"eggs\": 0, \"milk\": 1, \"airborne\": 0, \"aquatic\": 0, \"predator\": 1, \"toothed\": 1, \"backbone\": 1, \"breathes\": 1, \"venomous\": 0, \"fins\": 0, \"legs\": 4, \"tail\": 1, \"domestic\": 0, \"catsize\": 0, \"type\": 1}, {\"animal name\": \"mongoose\", \"hair\": 1, \"feathers\": 0, \"eggs\": 0, \"milk\": 1, \"airborne\": 0, \"aquatic\": 0, \"predator\": 1, \"toothed\": 1, \"backbone\": 1, \"breathes\": 1, \"venomous\": 0, \"fins\": 0, \"legs\": 4, \"tail\": 1, \"domestic\": 0, \"catsize\": 1, \"type\": 1}, {\"animal name\": \"moth\", \"hair\": 1, \"feathers\": 0, \"eggs\": 1, \"milk\": 0, \"airborne\": 1, \"aquatic\": 0, \"predator\": 0, \"toothed\": 0, \"backbone\": 0, \"breathes\": 1, \"venomous\": 0, \"fins\": 0, \"legs\": 6, \"tail\": 0, \"domestic\": 0, \"catsize\": 0, \"type\": 6}, {\"animal name\": \"newt\", \"hair\": 0, \"feathers\": 0, \"eggs\": 1, \"milk\": 0, \"airborne\": 0, \"aquatic\": 1, \"predator\": 1, \"toothed\": 1, \"backbone\": 1, \"breathes\": 1, \"venomous\": 0, \"fins\": 0, \"legs\": 4, \"tail\": 1, \"domestic\": 0, \"catsize\": 0, \"type\": 5}, {\"animal name\": \"octopus\", \"hair\": 0, \"feathers\": 0, \"eggs\": 1, \"milk\": 0, \"airborne\": 0, \"aquatic\": 1, \"predator\": 1, \"toothed\": 0, \"backbone\": 0, \"breathes\": 0, \"venomous\": 0, \"fins\": 0, \"legs\": 8, \"tail\": 0, \"domestic\": 0, \"catsize\": 1, \"type\": 7}, {\"animal name\": \"opossum\", \"hair\": 1, \"feathers\": 0, \"eggs\": 0, \"milk\": 1, \"airborne\": 0, \"aquatic\": 0, \"predator\": 1, \"toothed\": 1, \"backbone\": 1, \"breathes\": 1, \"venomous\": 0, \"fins\": 0, \"legs\": 4, \"tail\": 1, \"domestic\": 0, \"catsize\": 0, \"type\": 1}, {\"animal name\": \"oryx\", \"hair\": 1, \"feathers\": 0, \"eggs\": 0, \"milk\": 1, \"airborne\": 0, \"aquatic\": 0, \"predator\": 0, \"toothed\": 1, \"backbone\": 1, \"breathes\": 1, \"venomous\": 0, \"fins\": 0, \"legs\": 4, \"tail\": 1, \"domestic\": 0, \"catsize\": 1, \"type\": 1}, {\"animal name\": \"ostrich\", \"hair\": 0, \"feathers\": 1, \"eggs\": 1, \"milk\": 0, \"airborne\": 0, \"aquatic\": 0, \"predator\": 0, \"toothed\": 0, \"backbone\": 1, \"breathes\": 1, \"venomous\": 0, \"fins\": 0, \"legs\": 2, \"tail\": 1, \"domestic\": 0, \"catsize\": 1, \"type\": 2}, {\"animal name\": \"parakeet\", \"hair\": 0, \"feathers\": 1, \"eggs\": 1, \"milk\": 0, \"airborne\": 1, \"aquatic\": 0, \"predator\": 0, \"toothed\": 0, \"backbone\": 1, \"breathes\": 1, \"venomous\": 0, \"fins\": 0, \"legs\": 2, \"tail\": 1, \"domestic\": 1, \"catsize\": 0, \"type\": 2}, {\"animal name\": \"penguin\", \"hair\": 0, \"feathers\": 1, \"eggs\": 1, \"milk\": 0, \"airborne\": 0, \"aquatic\": 1, \"predator\": 1, \"toothed\": 0, \"backbone\": 1, \"breathes\": 1, \"venomous\": 0, \"fins\": 0, \"legs\": 2, \"tail\": 1, \"domestic\": 0, \"catsize\": 1, \"type\": 2}, {\"animal name\": \"pheasant\", \"hair\": 0, \"feathers\": 1, \"eggs\": 1, \"milk\": 0, \"airborne\": 1, \"aquatic\": 0, \"predator\": 0, \"toothed\": 0, \"backbone\": 1, \"breathes\": 1, \"venomous\": 0, \"fins\": 0, \"legs\": 2, \"tail\": 1, \"domestic\": 0, \"catsize\": 0, \"type\": 2}, {\"animal name\": \"pike\", \"hair\": 0, \"feathers\": 0, \"eggs\": 1, \"milk\": 0, \"airborne\": 0, \"aquatic\": 1, \"predator\": 1, \"toothed\": 1, \"backbone\": 1, \"breathes\": 0, \"venomous\": 0, \"fins\": 1, \"legs\": 0, \"tail\": 1, \"domestic\": 0, \"catsize\": 1, \"type\": 4}, {\"animal name\": \"piranha\", \"hair\": 0, \"feathers\": 0, \"eggs\": 1, \"milk\": 0, \"airborne\": 0, \"aquatic\": 1, \"predator\": 1, \"toothed\": 1, \"backbone\": 1, \"breathes\": 0, \"venomous\": 0, \"fins\": 1, \"legs\": 0, \"tail\": 1, \"domestic\": 0, \"catsize\": 0, \"type\": 4}, {\"animal name\": \"pitviper\", \"hair\": 0, \"feathers\": 0, \"eggs\": 1, \"milk\": 0, \"airborne\": 0, \"aquatic\": 0, \"predator\": 1, \"toothed\": 1, \"backbone\": 1, \"breathes\": 1, \"venomous\": 1, \"fins\": 0, \"legs\": 0, \"tail\": 1, \"domestic\": 0, \"catsize\": 0, \"type\": 3}, {\"animal name\": \"platypus\", \"hair\": 1, \"feathers\": 0, \"eggs\": 1, \"milk\": 1, \"airborne\": 0, \"aquatic\": 1, \"predator\": 1, \"toothed\": 0, \"backbone\": 1, \"breathes\": 1, \"venomous\": 0, \"fins\": 0, \"legs\": 4, \"tail\": 1, \"domestic\": 0, \"catsize\": 1, \"type\": 1}, {\"animal name\": \"polecat\", \"hair\": 1, \"feathers\": 0, \"eggs\": 0, \"milk\": 1, \"airborne\": 0, \"aquatic\": 0, \"predator\": 1, \"toothed\": 1, \"backbone\": 1, \"breathes\": 1, \"venomous\": 0, \"fins\": 0, \"legs\": 4, \"tail\": 1, \"domestic\": 0, \"catsize\": 1, \"type\": 1}, {\"animal name\": \"pony\", \"hair\": 1, \"feathers\": 0, \"eggs\": 0, \"milk\": 1, \"airborne\": 0, \"aquatic\": 0, \"predator\": 0, \"toothed\": 1, \"backbone\": 1, \"breathes\": 1, \"venomous\": 0, \"fins\": 0, \"legs\": 4, \"tail\": 1, \"domestic\": 1, \"catsize\": 1, \"type\": 1}, {\"animal name\": \"porpoise\", \"hair\": 0, \"feathers\": 0, \"eggs\": 0, \"milk\": 1, \"airborne\": 0, \"aquatic\": 1, \"predator\": 1, \"toothed\": 1, \"backbone\": 1, \"breathes\": 1, \"venomous\": 0, \"fins\": 1, \"legs\": 0, \"tail\": 1, \"domestic\": 0, \"catsize\": 1, \"type\": 1}, {\"animal name\": \"puma\", \"hair\": 1, \"feathers\": 0, \"eggs\": 0, \"milk\": 1, \"airborne\": 0, \"aquatic\": 0, \"predator\": 1, \"toothed\": 1, \"backbone\": 1, \"breathes\": 1, \"venomous\": 0, \"fins\": 0, \"legs\": 4, \"tail\": 1, \"domestic\": 0, \"catsize\": 1, \"type\": 1}, {\"animal name\": \"pussycat\", \"hair\": 1, \"feathers\": 0, \"eggs\": 0, \"milk\": 1, \"airborne\": 0, \"aquatic\": 0, \"predator\": 1, \"toothed\": 1, \"backbone\": 1, \"breathes\": 1, \"venomous\": 0, \"fins\": 0, \"legs\": 4, \"tail\": 1, \"domestic\": 1, \"catsize\": 1, \"type\": 1}, {\"animal name\": \"raccoon\", \"hair\": 1, \"feathers\": 0, \"eggs\": 0, \"milk\": 1, \"airborne\": 0, \"aquatic\": 0, \"predator\": 1, \"toothed\": 1, \"backbone\": 1, \"breathes\": 1, \"venomous\": 0, \"fins\": 0, \"legs\": 4, \"tail\": 1, \"domestic\": 0, \"catsize\": 1, \"type\": 1}, {\"animal name\": \"reindeer\", \"hair\": 1, \"feathers\": 0, \"eggs\": 0, \"milk\": 1, \"airborne\": 0, \"aquatic\": 0, \"predator\": 0, \"toothed\": 1, \"backbone\": 1, \"breathes\": 1, \"venomous\": 0, \"fins\": 0, \"legs\": 4, \"tail\": 1, \"domestic\": 1, \"catsize\": 1, \"type\": 1}, {\"animal name\": \"rhea\", \"hair\": 0, \"feathers\": 1, \"eggs\": 1, \"milk\": 0, \"airborne\": 0, \"aquatic\": 0, \"predator\": 1, \"toothed\": 0, \"backbone\": 1, \"breathes\": 1, \"venomous\": 0, \"fins\": 0, \"legs\": 2, \"tail\": 1, \"domestic\": 0, \"catsize\": 1, \"type\": 2}, {\"animal name\": \"scorpion\", \"hair\": 0, \"feathers\": 0, \"eggs\": 0, \"milk\": 0, \"airborne\": 0, \"aquatic\": 0, \"predator\": 1, \"toothed\": 0, \"backbone\": 0, \"breathes\": 1, \"venomous\": 1, \"fins\": 0, \"legs\": 8, \"tail\": 1, \"domestic\": 0, \"catsize\": 0, \"type\": 7}, {\"animal name\": \"seahorse\", \"hair\": 0, \"feathers\": 0, \"eggs\": 1, \"milk\": 0, \"airborne\": 0, \"aquatic\": 1, \"predator\": 0, \"toothed\": 1, \"backbone\": 1, \"breathes\": 0, \"venomous\": 0, \"fins\": 1, \"legs\": 0, \"tail\": 1, \"domestic\": 0, \"catsize\": 0, \"type\": 4}, {\"animal name\": \"seal\", \"hair\": 1, \"feathers\": 0, \"eggs\": 0, \"milk\": 1, \"airborne\": 0, \"aquatic\": 1, \"predator\": 1, \"toothed\": 1, \"backbone\": 1, \"breathes\": 1, \"venomous\": 0, \"fins\": 1, \"legs\": 0, \"tail\": 0, \"domestic\": 0, \"catsize\": 1, \"type\": 1}, {\"animal name\": \"sealion\", \"hair\": 1, \"feathers\": 0, \"eggs\": 0, \"milk\": 1, \"airborne\": 0, \"aquatic\": 1, \"predator\": 1, \"toothed\": 1, \"backbone\": 1, \"breathes\": 1, \"venomous\": 0, \"fins\": 1, \"legs\": 2, \"tail\": 1, \"domestic\": 0, \"catsize\": 1, \"type\": 1}, {\"animal name\": \"seasnake\", \"hair\": 0, \"feathers\": 0, \"eggs\": 0, \"milk\": 0, \"airborne\": 0, \"aquatic\": 1, \"predator\": 1, \"toothed\": 1, \"backbone\": 1, \"breathes\": 0, \"venomous\": 1, \"fins\": 0, \"legs\": 0, \"tail\": 1, \"domestic\": 0, \"catsize\": 0, \"type\": 3}, {\"animal name\": \"seawasp\", \"hair\": 0, \"feathers\": 0, \"eggs\": 1, \"milk\": 0, \"airborne\": 0, \"aquatic\": 1, \"predator\": 1, \"toothed\": 0, \"backbone\": 0, \"breathes\": 0, \"venomous\": 1, \"fins\": 0, \"legs\": 0, \"tail\": 0, \"domestic\": 0, \"catsize\": 0, \"type\": 7}, {\"animal name\": \"skimmer\", \"hair\": 0, \"feathers\": 1, \"eggs\": 1, \"milk\": 0, \"airborne\": 1, \"aquatic\": 1, \"predator\": 1, \"toothed\": 0, \"backbone\": 1, \"breathes\": 1, \"venomous\": 0, \"fins\": 0, \"legs\": 2, \"tail\": 1, \"domestic\": 0, \"catsize\": 0, \"type\": 2}, {\"animal name\": \"skua\", \"hair\": 0, \"feathers\": 1, \"eggs\": 1, \"milk\": 0, \"airborne\": 1, \"aquatic\": 1, \"predator\": 1, \"toothed\": 0, \"backbone\": 1, \"breathes\": 1, \"venomous\": 0, \"fins\": 0, \"legs\": 2, \"tail\": 1, \"domestic\": 0, \"catsize\": 0, \"type\": 2}, {\"animal name\": \"slowworm\", \"hair\": 0, \"feathers\": 0, \"eggs\": 1, \"milk\": 0, \"airborne\": 0, \"aquatic\": 0, \"predator\": 1, \"toothed\": 1, \"backbone\": 1, \"breathes\": 1, \"venomous\": 0, \"fins\": 0, \"legs\": 0, \"tail\": 1, \"domestic\": 0, \"catsize\": 0, \"type\": 3}, {\"animal name\": \"slug\", \"hair\": 0, \"feathers\": 0, \"eggs\": 1, \"milk\": 0, \"airborne\": 0, \"aquatic\": 0, \"predator\": 0, \"toothed\": 0, \"backbone\": 0, \"breathes\": 1, \"venomous\": 0, \"fins\": 0, \"legs\": 0, \"tail\": 0, \"domestic\": 0, \"catsize\": 0, \"type\": 7}, {\"animal name\": \"sole\", \"hair\": 0, \"feathers\": 0, \"eggs\": 1, \"milk\": 0, \"airborne\": 0, \"aquatic\": 1, \"predator\": 0, \"toothed\": 1, \"backbone\": 1, \"breathes\": 0, \"venomous\": 0, \"fins\": 1, \"legs\": 0, \"tail\": 1, \"domestic\": 0, \"catsize\": 0, \"type\": 4}, {\"animal name\": \"sparrow\", \"hair\": 0, \"feathers\": 1, \"eggs\": 1, \"milk\": 0, \"airborne\": 1, \"aquatic\": 0, \"predator\": 0, \"toothed\": 0, \"backbone\": 1, \"breathes\": 1, \"venomous\": 0, \"fins\": 0, \"legs\": 2, \"tail\": 1, \"domestic\": 0, \"catsize\": 0, \"type\": 2}, {\"animal name\": \"squirrel\", \"hair\": 1, \"feathers\": 0, \"eggs\": 0, \"milk\": 1, \"airborne\": 0, \"aquatic\": 0, \"predator\": 0, \"toothed\": 1, \"backbone\": 1, \"breathes\": 1, \"venomous\": 0, \"fins\": 0, \"legs\": 2, \"tail\": 1, \"domestic\": 0, \"catsize\": 0, \"type\": 1}, {\"animal name\": \"starfish\", \"hair\": 0, \"feathers\": 0, \"eggs\": 1, \"milk\": 0, \"airborne\": 0, \"aquatic\": 1, \"predator\": 1, \"toothed\": 0, \"backbone\": 0, \"breathes\": 0, \"venomous\": 0, \"fins\": 0, \"legs\": 5, \"tail\": 0, \"domestic\": 0, \"catsize\": 0, \"type\": 7}, {\"animal name\": \"stingray\", \"hair\": 0, \"feathers\": 0, \"eggs\": 1, \"milk\": 0, \"airborne\": 0, \"aquatic\": 1, \"predator\": 1, \"toothed\": 1, \"backbone\": 1, \"breathes\": 0, \"venomous\": 1, \"fins\": 1, \"legs\": 0, \"tail\": 1, \"domestic\": 0, \"catsize\": 1, \"type\": 4}, {\"animal name\": \"swan\", \"hair\": 0, \"feathers\": 1, \"eggs\": 1, \"milk\": 0, \"airborne\": 1, \"aquatic\": 1, \"predator\": 0, \"toothed\": 0, \"backbone\": 1, \"breathes\": 1, \"venomous\": 0, \"fins\": 0, \"legs\": 2, \"tail\": 1, \"domestic\": 0, \"catsize\": 1, \"type\": 2}, {\"animal name\": \"termite\", \"hair\": 0, \"feathers\": 0, \"eggs\": 1, \"milk\": 0, \"airborne\": 0, \"aquatic\": 0, \"predator\": 0, \"toothed\": 0, \"backbone\": 0, \"breathes\": 1, \"venomous\": 0, \"fins\": 0, \"legs\": 6, \"tail\": 0, \"domestic\": 0, \"catsize\": 0, \"type\": 6}, {\"animal name\": \"toad\", \"hair\": 0, \"feathers\": 0, \"eggs\": 1, \"milk\": 0, \"airborne\": 0, \"aquatic\": 1, \"predator\": 0, \"toothed\": 1, \"backbone\": 1, \"breathes\": 1, \"venomous\": 0, \"fins\": 0, \"legs\": 4, \"tail\": 0, \"domestic\": 0, \"catsize\": 0, \"type\": 5}, {\"animal name\": \"tortoise\", \"hair\": 0, \"feathers\": 0, \"eggs\": 1, \"milk\": 0, \"airborne\": 0, \"aquatic\": 0, \"predator\": 0, \"toothed\": 0, \"backbone\": 1, \"breathes\": 1, \"venomous\": 0, \"fins\": 0, \"legs\": 4, \"tail\": 1, \"domestic\": 0, \"catsize\": 1, \"type\": 3}, {\"animal name\": \"tuatara\", \"hair\": 0, \"feathers\": 0, \"eggs\": 1, \"milk\": 0, \"airborne\": 0, \"aquatic\": 0, \"predator\": 1, \"toothed\": 1, \"backbone\": 1, \"breathes\": 1, \"venomous\": 0, \"fins\": 0, \"legs\": 4, \"tail\": 1, \"domestic\": 0, \"catsize\": 0, \"type\": 3}, {\"animal name\": \"tuna\", \"hair\": 0, \"feathers\": 0, \"eggs\": 1, \"milk\": 0, \"airborne\": 0, \"aquatic\": 1, \"predator\": 1, \"toothed\": 1, \"backbone\": 1, \"breathes\": 0, \"venomous\": 0, \"fins\": 1, \"legs\": 0, \"tail\": 1, \"domestic\": 0, \"catsize\": 1, \"type\": 4}, {\"animal name\": \"vampire\", \"hair\": 1, \"feathers\": 0, \"eggs\": 0, \"milk\": 1, \"airborne\": 1, \"aquatic\": 0, \"predator\": 0, \"toothed\": 1, \"backbone\": 1, \"breathes\": 1, \"venomous\": 0, \"fins\": 0, \"legs\": 2, \"tail\": 1, \"domestic\": 0, \"catsize\": 0, \"type\": 1}, {\"animal name\": \"vole\", \"hair\": 1, \"feathers\": 0, \"eggs\": 0, \"milk\": 1, \"airborne\": 0, \"aquatic\": 0, \"predator\": 0, \"toothed\": 1, \"backbone\": 1, \"breathes\": 1, \"venomous\": 0, \"fins\": 0, \"legs\": 4, \"tail\": 1, \"domestic\": 0, \"catsize\": 0, \"type\": 1}, {\"animal name\": \"vulture\", \"hair\": 0, \"feathers\": 1, \"eggs\": 1, \"milk\": 0, \"airborne\": 1, \"aquatic\": 0, \"predator\": 1, \"toothed\": 0, \"backbone\": 1, \"breathes\": 1, \"venomous\": 0, \"fins\": 0, \"legs\": 2, \"tail\": 1, \"domestic\": 0, \"catsize\": 1, \"type\": 2}, {\"animal name\": \"wallaby\", \"hair\": 1, \"feathers\": 0, \"eggs\": 0, \"milk\": 1, \"airborne\": 0, \"aquatic\": 0, \"predator\": 0, \"toothed\": 1, \"backbone\": 1, \"breathes\": 1, \"venomous\": 0, \"fins\": 0, \"legs\": 2, \"tail\": 1, \"domestic\": 0, \"catsize\": 1, \"type\": 1}, {\"animal name\": \"wasp\", \"hair\": 1, \"feathers\": 0, \"eggs\": 1, \"milk\": 0, \"airborne\": 1, \"aquatic\": 0, \"predator\": 0, \"toothed\": 0, \"backbone\": 0, \"breathes\": 1, \"venomous\": 1, \"fins\": 0, \"legs\": 6, \"tail\": 0, \"domestic\": 0, \"catsize\": 0, \"type\": 6}, {\"animal name\": \"wolf\", \"hair\": 1, \"feathers\": 0, \"eggs\": 0, \"milk\": 1, \"airborne\": 0, \"aquatic\": 0, \"predator\": 1, \"toothed\": 1, \"backbone\": 1, \"breathes\": 1, \"venomous\": 0, \"fins\": 0, \"legs\": 4, \"tail\": 1, \"domestic\": 0, \"catsize\": 1, \"type\": 1}, {\"animal name\": \"worm\", \"hair\": 0, \"feathers\": 0, \"eggs\": 1, \"milk\": 0, \"airborne\": 0, \"aquatic\": 0, \"predator\": 0, \"toothed\": 0, \"backbone\": 0, \"breathes\": 1, \"venomous\": 0, \"fins\": 0, \"legs\": 0, \"tail\": 0, \"domestic\": 0, \"catsize\": 0, \"type\": 7}, {\"animal name\": \"wren\", \"hair\": 0, \"feathers\": 1, \"eggs\": 1, \"milk\": 0, \"airborne\": 1, \"aquatic\": 0, \"predator\": 0, \"toothed\": 0, \"backbone\": 1, \"breathes\": 1, \"venomous\": 0, \"fins\": 0, \"legs\": 2, \"tail\": 1, \"domestic\": 0, \"catsize\": 0, \"type\": 2}]}}, {\"mode\": \"vega-lite\"});\n",
       "</script>"
      ],
      "text/plain": [
       "alt.Chart(...)"
      ]
     },
     "execution_count": 54,
     "metadata": {},
     "output_type": "execute_result"
    }
   ],
   "source": [
    "plot_02"
   ]
  },
  {
   "cell_type": "markdown",
   "metadata": {},
   "source": [
    "#### Bokeh"
   ]
  },
  {
   "cell_type": "code",
   "execution_count": null,
   "metadata": {},
   "outputs": [],
   "source": []
  },
  {
   "cell_type": "markdown",
   "metadata": {},
   "source": [
    "#### Plotly"
   ]
  },
  {
   "cell_type": "code",
   "execution_count": null,
   "metadata": {},
   "outputs": [],
   "source": []
  },
  {
   "cell_type": "markdown",
   "metadata": {},
   "source": [
    "### Gráfico de pie"
   ]
  },
  {
   "cell_type": "markdown",
   "metadata": {},
   "source": [
    "#### Matplotlib"
   ]
  },
  {
   "cell_type": "code",
   "execution_count": null,
   "metadata": {},
   "outputs": [],
   "source": []
  },
  {
   "cell_type": "markdown",
   "metadata": {},
   "source": [
    "#### Seaborn"
   ]
  },
  {
   "cell_type": "code",
   "execution_count": null,
   "metadata": {},
   "outputs": [],
   "source": []
  },
  {
   "cell_type": "markdown",
   "metadata": {},
   "source": [
    "#### Bokeh"
   ]
  },
  {
   "cell_type": "code",
   "execution_count": null,
   "metadata": {},
   "outputs": [],
   "source": []
  },
  {
   "cell_type": "markdown",
   "metadata": {},
   "source": [
    "#### Plotly"
   ]
  },
  {
   "cell_type": "code",
   "execution_count": 18,
   "metadata": {
    "ExecuteTime": {
     "end_time": "2021-06-06T21:53:27.085759Z",
     "start_time": "2021-06-06T21:53:26.934276Z"
    }
   },
   "outputs": [
    {
     "data": {
      "application/vnd.plotly.v1+json": {
       "config": {
        "plotlyServerURL": "https://plot.ly"
       },
       "data": [
        {
         "domain": {
          "x": [
           0,
           1
          ],
          "y": [
           0,
           1
          ]
         },
         "hovertemplate": "legs=%{label}<br>aquatic=%{value}<extra></extra>",
         "labels": [
          4,
          0,
          4,
          4,
          4,
          4,
          0,
          0,
          4,
          4,
          2,
          0,
          0,
          4,
          6,
          2,
          4,
          0,
          0,
          2,
          2,
          4,
          2,
          6,
          4,
          4,
          2,
          4,
          2,
          6,
          4,
          2,
          2,
          0,
          4,
          4,
          2,
          0,
          6,
          6,
          2,
          6,
          2,
          4,
          4,
          6,
          4,
          4,
          4,
          4,
          6,
          4,
          8,
          4,
          4,
          2,
          2,
          2,
          2,
          0,
          0,
          0,
          4,
          4,
          4,
          0,
          4,
          4,
          4,
          4,
          2,
          8,
          0,
          0,
          2,
          0,
          0,
          2,
          2,
          0,
          0,
          0,
          2,
          2,
          5,
          0,
          2,
          6,
          4,
          4,
          4,
          0,
          2,
          4,
          2,
          2,
          6,
          4,
          0,
          2
         ],
         "legendgroup": "",
         "name": "",
         "showlegend": true,
         "type": "pie",
         "values": [
          0,
          1,
          0,
          0,
          0,
          0,
          1,
          1,
          0,
          0,
          0,
          1,
          0,
          1,
          1,
          0,
          0,
          1,
          1,
          0,
          1,
          0,
          0,
          0,
          1,
          1,
          0,
          0,
          0,
          0,
          0,
          0,
          1,
          1,
          0,
          0,
          0,
          1,
          0,
          0,
          0,
          0,
          0,
          0,
          0,
          1,
          0,
          1,
          0,
          0,
          0,
          1,
          1,
          0,
          0,
          0,
          0,
          1,
          0,
          1,
          1,
          0,
          1,
          0,
          0,
          1,
          0,
          0,
          0,
          0,
          0,
          0,
          1,
          1,
          1,
          1,
          1,
          1,
          1,
          0,
          0,
          1,
          0,
          0,
          1,
          1,
          1,
          0,
          1,
          0,
          0,
          1,
          0,
          0,
          0,
          0,
          0,
          0,
          0,
          0
         ]
        }
       ],
       "layout": {
        "legend": {
         "tracegroupgap": 0
        },
        "template": {
         "data": {
          "bar": [
           {
            "error_x": {
             "color": "#2a3f5f"
            },
            "error_y": {
             "color": "#2a3f5f"
            },
            "marker": {
             "line": {
              "color": "#E5ECF6",
              "width": 0.5
             }
            },
            "type": "bar"
           }
          ],
          "barpolar": [
           {
            "marker": {
             "line": {
              "color": "#E5ECF6",
              "width": 0.5
             }
            },
            "type": "barpolar"
           }
          ],
          "carpet": [
           {
            "aaxis": {
             "endlinecolor": "#2a3f5f",
             "gridcolor": "white",
             "linecolor": "white",
             "minorgridcolor": "white",
             "startlinecolor": "#2a3f5f"
            },
            "baxis": {
             "endlinecolor": "#2a3f5f",
             "gridcolor": "white",
             "linecolor": "white",
             "minorgridcolor": "white",
             "startlinecolor": "#2a3f5f"
            },
            "type": "carpet"
           }
          ],
          "choropleth": [
           {
            "colorbar": {
             "outlinewidth": 0,
             "ticks": ""
            },
            "type": "choropleth"
           }
          ],
          "contour": [
           {
            "colorbar": {
             "outlinewidth": 0,
             "ticks": ""
            },
            "colorscale": [
             [
              0,
              "#0d0887"
             ],
             [
              0.1111111111111111,
              "#46039f"
             ],
             [
              0.2222222222222222,
              "#7201a8"
             ],
             [
              0.3333333333333333,
              "#9c179e"
             ],
             [
              0.4444444444444444,
              "#bd3786"
             ],
             [
              0.5555555555555556,
              "#d8576b"
             ],
             [
              0.6666666666666666,
              "#ed7953"
             ],
             [
              0.7777777777777778,
              "#fb9f3a"
             ],
             [
              0.8888888888888888,
              "#fdca26"
             ],
             [
              1,
              "#f0f921"
             ]
            ],
            "type": "contour"
           }
          ],
          "contourcarpet": [
           {
            "colorbar": {
             "outlinewidth": 0,
             "ticks": ""
            },
            "type": "contourcarpet"
           }
          ],
          "heatmap": [
           {
            "colorbar": {
             "outlinewidth": 0,
             "ticks": ""
            },
            "colorscale": [
             [
              0,
              "#0d0887"
             ],
             [
              0.1111111111111111,
              "#46039f"
             ],
             [
              0.2222222222222222,
              "#7201a8"
             ],
             [
              0.3333333333333333,
              "#9c179e"
             ],
             [
              0.4444444444444444,
              "#bd3786"
             ],
             [
              0.5555555555555556,
              "#d8576b"
             ],
             [
              0.6666666666666666,
              "#ed7953"
             ],
             [
              0.7777777777777778,
              "#fb9f3a"
             ],
             [
              0.8888888888888888,
              "#fdca26"
             ],
             [
              1,
              "#f0f921"
             ]
            ],
            "type": "heatmap"
           }
          ],
          "heatmapgl": [
           {
            "colorbar": {
             "outlinewidth": 0,
             "ticks": ""
            },
            "colorscale": [
             [
              0,
              "#0d0887"
             ],
             [
              0.1111111111111111,
              "#46039f"
             ],
             [
              0.2222222222222222,
              "#7201a8"
             ],
             [
              0.3333333333333333,
              "#9c179e"
             ],
             [
              0.4444444444444444,
              "#bd3786"
             ],
             [
              0.5555555555555556,
              "#d8576b"
             ],
             [
              0.6666666666666666,
              "#ed7953"
             ],
             [
              0.7777777777777778,
              "#fb9f3a"
             ],
             [
              0.8888888888888888,
              "#fdca26"
             ],
             [
              1,
              "#f0f921"
             ]
            ],
            "type": "heatmapgl"
           }
          ],
          "histogram": [
           {
            "marker": {
             "colorbar": {
              "outlinewidth": 0,
              "ticks": ""
             }
            },
            "type": "histogram"
           }
          ],
          "histogram2d": [
           {
            "colorbar": {
             "outlinewidth": 0,
             "ticks": ""
            },
            "colorscale": [
             [
              0,
              "#0d0887"
             ],
             [
              0.1111111111111111,
              "#46039f"
             ],
             [
              0.2222222222222222,
              "#7201a8"
             ],
             [
              0.3333333333333333,
              "#9c179e"
             ],
             [
              0.4444444444444444,
              "#bd3786"
             ],
             [
              0.5555555555555556,
              "#d8576b"
             ],
             [
              0.6666666666666666,
              "#ed7953"
             ],
             [
              0.7777777777777778,
              "#fb9f3a"
             ],
             [
              0.8888888888888888,
              "#fdca26"
             ],
             [
              1,
              "#f0f921"
             ]
            ],
            "type": "histogram2d"
           }
          ],
          "histogram2dcontour": [
           {
            "colorbar": {
             "outlinewidth": 0,
             "ticks": ""
            },
            "colorscale": [
             [
              0,
              "#0d0887"
             ],
             [
              0.1111111111111111,
              "#46039f"
             ],
             [
              0.2222222222222222,
              "#7201a8"
             ],
             [
              0.3333333333333333,
              "#9c179e"
             ],
             [
              0.4444444444444444,
              "#bd3786"
             ],
             [
              0.5555555555555556,
              "#d8576b"
             ],
             [
              0.6666666666666666,
              "#ed7953"
             ],
             [
              0.7777777777777778,
              "#fb9f3a"
             ],
             [
              0.8888888888888888,
              "#fdca26"
             ],
             [
              1,
              "#f0f921"
             ]
            ],
            "type": "histogram2dcontour"
           }
          ],
          "mesh3d": [
           {
            "colorbar": {
             "outlinewidth": 0,
             "ticks": ""
            },
            "type": "mesh3d"
           }
          ],
          "parcoords": [
           {
            "line": {
             "colorbar": {
              "outlinewidth": 0,
              "ticks": ""
             }
            },
            "type": "parcoords"
           }
          ],
          "pie": [
           {
            "automargin": true,
            "type": "pie"
           }
          ],
          "scatter": [
           {
            "marker": {
             "colorbar": {
              "outlinewidth": 0,
              "ticks": ""
             }
            },
            "type": "scatter"
           }
          ],
          "scatter3d": [
           {
            "line": {
             "colorbar": {
              "outlinewidth": 0,
              "ticks": ""
             }
            },
            "marker": {
             "colorbar": {
              "outlinewidth": 0,
              "ticks": ""
             }
            },
            "type": "scatter3d"
           }
          ],
          "scattercarpet": [
           {
            "marker": {
             "colorbar": {
              "outlinewidth": 0,
              "ticks": ""
             }
            },
            "type": "scattercarpet"
           }
          ],
          "scattergeo": [
           {
            "marker": {
             "colorbar": {
              "outlinewidth": 0,
              "ticks": ""
             }
            },
            "type": "scattergeo"
           }
          ],
          "scattergl": [
           {
            "marker": {
             "colorbar": {
              "outlinewidth": 0,
              "ticks": ""
             }
            },
            "type": "scattergl"
           }
          ],
          "scattermapbox": [
           {
            "marker": {
             "colorbar": {
              "outlinewidth": 0,
              "ticks": ""
             }
            },
            "type": "scattermapbox"
           }
          ],
          "scatterpolar": [
           {
            "marker": {
             "colorbar": {
              "outlinewidth": 0,
              "ticks": ""
             }
            },
            "type": "scatterpolar"
           }
          ],
          "scatterpolargl": [
           {
            "marker": {
             "colorbar": {
              "outlinewidth": 0,
              "ticks": ""
             }
            },
            "type": "scatterpolargl"
           }
          ],
          "scatterternary": [
           {
            "marker": {
             "colorbar": {
              "outlinewidth": 0,
              "ticks": ""
             }
            },
            "type": "scatterternary"
           }
          ],
          "surface": [
           {
            "colorbar": {
             "outlinewidth": 0,
             "ticks": ""
            },
            "colorscale": [
             [
              0,
              "#0d0887"
             ],
             [
              0.1111111111111111,
              "#46039f"
             ],
             [
              0.2222222222222222,
              "#7201a8"
             ],
             [
              0.3333333333333333,
              "#9c179e"
             ],
             [
              0.4444444444444444,
              "#bd3786"
             ],
             [
              0.5555555555555556,
              "#d8576b"
             ],
             [
              0.6666666666666666,
              "#ed7953"
             ],
             [
              0.7777777777777778,
              "#fb9f3a"
             ],
             [
              0.8888888888888888,
              "#fdca26"
             ],
             [
              1,
              "#f0f921"
             ]
            ],
            "type": "surface"
           }
          ],
          "table": [
           {
            "cells": {
             "fill": {
              "color": "#EBF0F8"
             },
             "line": {
              "color": "white"
             }
            },
            "header": {
             "fill": {
              "color": "#C8D4E3"
             },
             "line": {
              "color": "white"
             }
            },
            "type": "table"
           }
          ]
         },
         "layout": {
          "annotationdefaults": {
           "arrowcolor": "#2a3f5f",
           "arrowhead": 0,
           "arrowwidth": 1
          },
          "autotypenumbers": "strict",
          "coloraxis": {
           "colorbar": {
            "outlinewidth": 0,
            "ticks": ""
           }
          },
          "colorscale": {
           "diverging": [
            [
             0,
             "#8e0152"
            ],
            [
             0.1,
             "#c51b7d"
            ],
            [
             0.2,
             "#de77ae"
            ],
            [
             0.3,
             "#f1b6da"
            ],
            [
             0.4,
             "#fde0ef"
            ],
            [
             0.5,
             "#f7f7f7"
            ],
            [
             0.6,
             "#e6f5d0"
            ],
            [
             0.7,
             "#b8e186"
            ],
            [
             0.8,
             "#7fbc41"
            ],
            [
             0.9,
             "#4d9221"
            ],
            [
             1,
             "#276419"
            ]
           ],
           "sequential": [
            [
             0,
             "#0d0887"
            ],
            [
             0.1111111111111111,
             "#46039f"
            ],
            [
             0.2222222222222222,
             "#7201a8"
            ],
            [
             0.3333333333333333,
             "#9c179e"
            ],
            [
             0.4444444444444444,
             "#bd3786"
            ],
            [
             0.5555555555555556,
             "#d8576b"
            ],
            [
             0.6666666666666666,
             "#ed7953"
            ],
            [
             0.7777777777777778,
             "#fb9f3a"
            ],
            [
             0.8888888888888888,
             "#fdca26"
            ],
            [
             1,
             "#f0f921"
            ]
           ],
           "sequentialminus": [
            [
             0,
             "#0d0887"
            ],
            [
             0.1111111111111111,
             "#46039f"
            ],
            [
             0.2222222222222222,
             "#7201a8"
            ],
            [
             0.3333333333333333,
             "#9c179e"
            ],
            [
             0.4444444444444444,
             "#bd3786"
            ],
            [
             0.5555555555555556,
             "#d8576b"
            ],
            [
             0.6666666666666666,
             "#ed7953"
            ],
            [
             0.7777777777777778,
             "#fb9f3a"
            ],
            [
             0.8888888888888888,
             "#fdca26"
            ],
            [
             1,
             "#f0f921"
            ]
           ]
          },
          "colorway": [
           "#636efa",
           "#EF553B",
           "#00cc96",
           "#ab63fa",
           "#FFA15A",
           "#19d3f3",
           "#FF6692",
           "#B6E880",
           "#FF97FF",
           "#FECB52"
          ],
          "font": {
           "color": "#2a3f5f"
          },
          "geo": {
           "bgcolor": "white",
           "lakecolor": "white",
           "landcolor": "#E5ECF6",
           "showlakes": true,
           "showland": true,
           "subunitcolor": "white"
          },
          "hoverlabel": {
           "align": "left"
          },
          "hovermode": "closest",
          "mapbox": {
           "style": "light"
          },
          "paper_bgcolor": "white",
          "plot_bgcolor": "#E5ECF6",
          "polar": {
           "angularaxis": {
            "gridcolor": "white",
            "linecolor": "white",
            "ticks": ""
           },
           "bgcolor": "#E5ECF6",
           "radialaxis": {
            "gridcolor": "white",
            "linecolor": "white",
            "ticks": ""
           }
          },
          "scene": {
           "xaxis": {
            "backgroundcolor": "#E5ECF6",
            "gridcolor": "white",
            "gridwidth": 2,
            "linecolor": "white",
            "showbackground": true,
            "ticks": "",
            "zerolinecolor": "white"
           },
           "yaxis": {
            "backgroundcolor": "#E5ECF6",
            "gridcolor": "white",
            "gridwidth": 2,
            "linecolor": "white",
            "showbackground": true,
            "ticks": "",
            "zerolinecolor": "white"
           },
           "zaxis": {
            "backgroundcolor": "#E5ECF6",
            "gridcolor": "white",
            "gridwidth": 2,
            "linecolor": "white",
            "showbackground": true,
            "ticks": "",
            "zerolinecolor": "white"
           }
          },
          "shapedefaults": {
           "line": {
            "color": "#2a3f5f"
           }
          },
          "ternary": {
           "aaxis": {
            "gridcolor": "white",
            "linecolor": "white",
            "ticks": ""
           },
           "baxis": {
            "gridcolor": "white",
            "linecolor": "white",
            "ticks": ""
           },
           "bgcolor": "#E5ECF6",
           "caxis": {
            "gridcolor": "white",
            "linecolor": "white",
            "ticks": ""
           }
          },
          "title": {
           "x": 0.05
          },
          "xaxis": {
           "automargin": true,
           "gridcolor": "white",
           "linecolor": "white",
           "ticks": "",
           "title": {
            "standoff": 15
           },
           "zerolinecolor": "white",
           "zerolinewidth": 2
          },
          "yaxis": {
           "automargin": true,
           "gridcolor": "white",
           "linecolor": "white",
           "ticks": "",
           "title": {
            "standoff": 15
           },
           "zerolinecolor": "white",
           "zerolinewidth": 2
          }
         }
        },
        "title": {
         "text": "Gráfica de Pie"
        }
       }
      },
      "text/html": [
       "<div>                            <div id=\"04e7639f-cc56-4a9b-930b-0cb4515f3fbd\" class=\"plotly-graph-div\" style=\"height:525px; width:100%;\"></div>            <script type=\"text/javascript\">                require([\"plotly\"], function(Plotly) {                    window.PLOTLYENV=window.PLOTLYENV || {};                                    if (document.getElementById(\"04e7639f-cc56-4a9b-930b-0cb4515f3fbd\")) {                    Plotly.newPlot(                        \"04e7639f-cc56-4a9b-930b-0cb4515f3fbd\",                        [{\"domain\": {\"x\": [0.0, 1.0], \"y\": [0.0, 1.0]}, \"hovertemplate\": \"legs=%{label}<br>aquatic=%{value}<extra></extra>\", \"labels\": [4, 0, 4, 4, 4, 4, 0, 0, 4, 4, 2, 0, 0, 4, 6, 2, 4, 0, 0, 2, 2, 4, 2, 6, 4, 4, 2, 4, 2, 6, 4, 2, 2, 0, 4, 4, 2, 0, 6, 6, 2, 6, 2, 4, 4, 6, 4, 4, 4, 4, 6, 4, 8, 4, 4, 2, 2, 2, 2, 0, 0, 0, 4, 4, 4, 0, 4, 4, 4, 4, 2, 8, 0, 0, 2, 0, 0, 2, 2, 0, 0, 0, 2, 2, 5, 0, 2, 6, 4, 4, 4, 0, 2, 4, 2, 2, 6, 4, 0, 2], \"legendgroup\": \"\", \"name\": \"\", \"showlegend\": true, \"type\": \"pie\", \"values\": [0, 1, 0, 0, 0, 0, 1, 1, 0, 0, 0, 1, 0, 1, 1, 0, 0, 1, 1, 0, 1, 0, 0, 0, 1, 1, 0, 0, 0, 0, 0, 0, 1, 1, 0, 0, 0, 1, 0, 0, 0, 0, 0, 0, 0, 1, 0, 1, 0, 0, 0, 1, 1, 0, 0, 0, 0, 1, 0, 1, 1, 0, 1, 0, 0, 1, 0, 0, 0, 0, 0, 0, 1, 1, 1, 1, 1, 1, 1, 0, 0, 1, 0, 0, 1, 1, 1, 0, 1, 0, 0, 1, 0, 0, 0, 0, 0, 0, 0, 0]}],                        {\"legend\": {\"tracegroupgap\": 0}, \"template\": {\"data\": {\"bar\": [{\"error_x\": {\"color\": \"#2a3f5f\"}, \"error_y\": {\"color\": \"#2a3f5f\"}, \"marker\": {\"line\": {\"color\": \"#E5ECF6\", \"width\": 0.5}}, \"type\": \"bar\"}], \"barpolar\": [{\"marker\": {\"line\": {\"color\": \"#E5ECF6\", \"width\": 0.5}}, \"type\": \"barpolar\"}], \"carpet\": [{\"aaxis\": {\"endlinecolor\": \"#2a3f5f\", \"gridcolor\": \"white\", \"linecolor\": \"white\", \"minorgridcolor\": \"white\", \"startlinecolor\": \"#2a3f5f\"}, \"baxis\": {\"endlinecolor\": \"#2a3f5f\", \"gridcolor\": \"white\", \"linecolor\": \"white\", \"minorgridcolor\": \"white\", \"startlinecolor\": \"#2a3f5f\"}, \"type\": \"carpet\"}], \"choropleth\": [{\"colorbar\": {\"outlinewidth\": 0, \"ticks\": \"\"}, \"type\": \"choropleth\"}], \"contour\": [{\"colorbar\": {\"outlinewidth\": 0, \"ticks\": \"\"}, \"colorscale\": [[0.0, \"#0d0887\"], [0.1111111111111111, \"#46039f\"], [0.2222222222222222, \"#7201a8\"], [0.3333333333333333, \"#9c179e\"], [0.4444444444444444, \"#bd3786\"], [0.5555555555555556, \"#d8576b\"], [0.6666666666666666, \"#ed7953\"], [0.7777777777777778, \"#fb9f3a\"], [0.8888888888888888, \"#fdca26\"], [1.0, \"#f0f921\"]], \"type\": \"contour\"}], \"contourcarpet\": [{\"colorbar\": {\"outlinewidth\": 0, \"ticks\": \"\"}, \"type\": \"contourcarpet\"}], \"heatmap\": [{\"colorbar\": {\"outlinewidth\": 0, \"ticks\": \"\"}, \"colorscale\": [[0.0, \"#0d0887\"], [0.1111111111111111, \"#46039f\"], [0.2222222222222222, \"#7201a8\"], [0.3333333333333333, \"#9c179e\"], [0.4444444444444444, \"#bd3786\"], [0.5555555555555556, \"#d8576b\"], [0.6666666666666666, \"#ed7953\"], [0.7777777777777778, \"#fb9f3a\"], [0.8888888888888888, \"#fdca26\"], [1.0, \"#f0f921\"]], \"type\": \"heatmap\"}], \"heatmapgl\": [{\"colorbar\": {\"outlinewidth\": 0, \"ticks\": \"\"}, \"colorscale\": [[0.0, \"#0d0887\"], [0.1111111111111111, \"#46039f\"], [0.2222222222222222, \"#7201a8\"], [0.3333333333333333, \"#9c179e\"], [0.4444444444444444, \"#bd3786\"], [0.5555555555555556, \"#d8576b\"], [0.6666666666666666, \"#ed7953\"], [0.7777777777777778, \"#fb9f3a\"], [0.8888888888888888, \"#fdca26\"], [1.0, \"#f0f921\"]], \"type\": \"heatmapgl\"}], \"histogram\": [{\"marker\": {\"colorbar\": {\"outlinewidth\": 0, \"ticks\": \"\"}}, \"type\": \"histogram\"}], \"histogram2d\": [{\"colorbar\": {\"outlinewidth\": 0, \"ticks\": \"\"}, \"colorscale\": [[0.0, \"#0d0887\"], [0.1111111111111111, \"#46039f\"], [0.2222222222222222, \"#7201a8\"], [0.3333333333333333, \"#9c179e\"], [0.4444444444444444, \"#bd3786\"], [0.5555555555555556, \"#d8576b\"], [0.6666666666666666, \"#ed7953\"], [0.7777777777777778, \"#fb9f3a\"], [0.8888888888888888, \"#fdca26\"], [1.0, \"#f0f921\"]], \"type\": \"histogram2d\"}], \"histogram2dcontour\": [{\"colorbar\": {\"outlinewidth\": 0, \"ticks\": \"\"}, \"colorscale\": [[0.0, \"#0d0887\"], [0.1111111111111111, \"#46039f\"], [0.2222222222222222, \"#7201a8\"], [0.3333333333333333, \"#9c179e\"], [0.4444444444444444, \"#bd3786\"], [0.5555555555555556, \"#d8576b\"], [0.6666666666666666, \"#ed7953\"], [0.7777777777777778, \"#fb9f3a\"], [0.8888888888888888, \"#fdca26\"], [1.0, \"#f0f921\"]], \"type\": \"histogram2dcontour\"}], \"mesh3d\": [{\"colorbar\": {\"outlinewidth\": 0, \"ticks\": \"\"}, \"type\": \"mesh3d\"}], \"parcoords\": [{\"line\": {\"colorbar\": {\"outlinewidth\": 0, \"ticks\": \"\"}}, \"type\": \"parcoords\"}], \"pie\": [{\"automargin\": true, \"type\": \"pie\"}], \"scatter\": [{\"marker\": {\"colorbar\": {\"outlinewidth\": 0, \"ticks\": \"\"}}, \"type\": \"scatter\"}], \"scatter3d\": [{\"line\": {\"colorbar\": {\"outlinewidth\": 0, \"ticks\": \"\"}}, \"marker\": {\"colorbar\": {\"outlinewidth\": 0, \"ticks\": \"\"}}, \"type\": \"scatter3d\"}], \"scattercarpet\": [{\"marker\": {\"colorbar\": {\"outlinewidth\": 0, \"ticks\": \"\"}}, \"type\": \"scattercarpet\"}], \"scattergeo\": [{\"marker\": {\"colorbar\": {\"outlinewidth\": 0, \"ticks\": \"\"}}, \"type\": \"scattergeo\"}], \"scattergl\": [{\"marker\": {\"colorbar\": {\"outlinewidth\": 0, \"ticks\": \"\"}}, \"type\": \"scattergl\"}], \"scattermapbox\": [{\"marker\": {\"colorbar\": {\"outlinewidth\": 0, \"ticks\": \"\"}}, \"type\": \"scattermapbox\"}], \"scatterpolar\": [{\"marker\": {\"colorbar\": {\"outlinewidth\": 0, \"ticks\": \"\"}}, \"type\": \"scatterpolar\"}], \"scatterpolargl\": [{\"marker\": {\"colorbar\": {\"outlinewidth\": 0, \"ticks\": \"\"}}, \"type\": \"scatterpolargl\"}], \"scatterternary\": [{\"marker\": {\"colorbar\": {\"outlinewidth\": 0, \"ticks\": \"\"}}, \"type\": \"scatterternary\"}], \"surface\": [{\"colorbar\": {\"outlinewidth\": 0, \"ticks\": \"\"}, \"colorscale\": [[0.0, \"#0d0887\"], [0.1111111111111111, \"#46039f\"], [0.2222222222222222, \"#7201a8\"], [0.3333333333333333, \"#9c179e\"], [0.4444444444444444, \"#bd3786\"], [0.5555555555555556, \"#d8576b\"], [0.6666666666666666, \"#ed7953\"], [0.7777777777777778, \"#fb9f3a\"], [0.8888888888888888, \"#fdca26\"], [1.0, \"#f0f921\"]], \"type\": \"surface\"}], \"table\": [{\"cells\": {\"fill\": {\"color\": \"#EBF0F8\"}, \"line\": {\"color\": \"white\"}}, \"header\": {\"fill\": {\"color\": \"#C8D4E3\"}, \"line\": {\"color\": \"white\"}}, \"type\": \"table\"}]}, \"layout\": {\"annotationdefaults\": {\"arrowcolor\": \"#2a3f5f\", \"arrowhead\": 0, \"arrowwidth\": 1}, \"autotypenumbers\": \"strict\", \"coloraxis\": {\"colorbar\": {\"outlinewidth\": 0, \"ticks\": \"\"}}, \"colorscale\": {\"diverging\": [[0, \"#8e0152\"], [0.1, \"#c51b7d\"], [0.2, \"#de77ae\"], [0.3, \"#f1b6da\"], [0.4, \"#fde0ef\"], [0.5, \"#f7f7f7\"], [0.6, \"#e6f5d0\"], [0.7, \"#b8e186\"], [0.8, \"#7fbc41\"], [0.9, \"#4d9221\"], [1, \"#276419\"]], \"sequential\": [[0.0, \"#0d0887\"], [0.1111111111111111, \"#46039f\"], [0.2222222222222222, \"#7201a8\"], [0.3333333333333333, \"#9c179e\"], [0.4444444444444444, \"#bd3786\"], [0.5555555555555556, \"#d8576b\"], [0.6666666666666666, \"#ed7953\"], [0.7777777777777778, \"#fb9f3a\"], [0.8888888888888888, \"#fdca26\"], [1.0, \"#f0f921\"]], \"sequentialminus\": [[0.0, \"#0d0887\"], [0.1111111111111111, \"#46039f\"], [0.2222222222222222, \"#7201a8\"], [0.3333333333333333, \"#9c179e\"], [0.4444444444444444, \"#bd3786\"], [0.5555555555555556, \"#d8576b\"], [0.6666666666666666, \"#ed7953\"], [0.7777777777777778, \"#fb9f3a\"], [0.8888888888888888, \"#fdca26\"], [1.0, \"#f0f921\"]]}, \"colorway\": [\"#636efa\", \"#EF553B\", \"#00cc96\", \"#ab63fa\", \"#FFA15A\", \"#19d3f3\", \"#FF6692\", \"#B6E880\", \"#FF97FF\", \"#FECB52\"], \"font\": {\"color\": \"#2a3f5f\"}, \"geo\": {\"bgcolor\": \"white\", \"lakecolor\": \"white\", \"landcolor\": \"#E5ECF6\", \"showlakes\": true, \"showland\": true, \"subunitcolor\": \"white\"}, \"hoverlabel\": {\"align\": \"left\"}, \"hovermode\": \"closest\", \"mapbox\": {\"style\": \"light\"}, \"paper_bgcolor\": \"white\", \"plot_bgcolor\": \"#E5ECF6\", \"polar\": {\"angularaxis\": {\"gridcolor\": \"white\", \"linecolor\": \"white\", \"ticks\": \"\"}, \"bgcolor\": \"#E5ECF6\", \"radialaxis\": {\"gridcolor\": \"white\", \"linecolor\": \"white\", \"ticks\": \"\"}}, \"scene\": {\"xaxis\": {\"backgroundcolor\": \"#E5ECF6\", \"gridcolor\": \"white\", \"gridwidth\": 2, \"linecolor\": \"white\", \"showbackground\": true, \"ticks\": \"\", \"zerolinecolor\": \"white\"}, \"yaxis\": {\"backgroundcolor\": \"#E5ECF6\", \"gridcolor\": \"white\", \"gridwidth\": 2, \"linecolor\": \"white\", \"showbackground\": true, \"ticks\": \"\", \"zerolinecolor\": \"white\"}, \"zaxis\": {\"backgroundcolor\": \"#E5ECF6\", \"gridcolor\": \"white\", \"gridwidth\": 2, \"linecolor\": \"white\", \"showbackground\": true, \"ticks\": \"\", \"zerolinecolor\": \"white\"}}, \"shapedefaults\": {\"line\": {\"color\": \"#2a3f5f\"}}, \"ternary\": {\"aaxis\": {\"gridcolor\": \"white\", \"linecolor\": \"white\", \"ticks\": \"\"}, \"baxis\": {\"gridcolor\": \"white\", \"linecolor\": \"white\", \"ticks\": \"\"}, \"bgcolor\": \"#E5ECF6\", \"caxis\": {\"gridcolor\": \"white\", \"linecolor\": \"white\", \"ticks\": \"\"}}, \"title\": {\"x\": 0.05}, \"xaxis\": {\"automargin\": true, \"gridcolor\": \"white\", \"linecolor\": \"white\", \"ticks\": \"\", \"title\": {\"standoff\": 15}, \"zerolinecolor\": \"white\", \"zerolinewidth\": 2}, \"yaxis\": {\"automargin\": true, \"gridcolor\": \"white\", \"linecolor\": \"white\", \"ticks\": \"\", \"title\": {\"standoff\": 15}, \"zerolinecolor\": \"white\", \"zerolinewidth\": 2}}}, \"title\": {\"text\": \"Gr\\u00e1fica de Pie\"}},                        {\"responsive\": true}                    ).then(function(){\n",
       "                            \n",
       "var gd = document.getElementById('04e7639f-cc56-4a9b-930b-0cb4515f3fbd');\n",
       "var x = new MutationObserver(function (mutations, observer) {{\n",
       "        var display = window.getComputedStyle(gd).display;\n",
       "        if (!display || display === 'none') {{\n",
       "            console.log([gd, 'removed!']);\n",
       "            Plotly.purge(gd);\n",
       "            observer.disconnect();\n",
       "        }}\n",
       "}});\n",
       "\n",
       "// Listen for the removal of the full notebook cells\n",
       "var notebookContainer = gd.closest('#notebook-container');\n",
       "if (notebookContainer) {{\n",
       "    x.observe(notebookContainer, {childList: true});\n",
       "}}\n",
       "\n",
       "// Listen for the clearing of the current output cell\n",
       "var outputEl = gd.closest('.output');\n",
       "if (outputEl) {{\n",
       "    x.observe(outputEl, {childList: true});\n",
       "}}\n",
       "\n",
       "                        })                };                });            </script>        </div>"
      ]
     },
     "metadata": {},
     "output_type": "display_data"
    }
   ],
   "source": [
    "px.pie(df, values='aquatic', names='legs', title='Gráfica de Pie')"
   ]
  },
  {
   "cell_type": "markdown",
   "metadata": {},
   "source": [
    "#### Altair"
   ]
  },
  {
   "cell_type": "code",
   "execution_count": null,
   "metadata": {},
   "outputs": [],
   "source": []
  },
  {
   "cell_type": "code",
   "execution_count": null,
   "metadata": {},
   "outputs": [],
   "source": []
  },
  {
   "cell_type": "code",
   "execution_count": null,
   "metadata": {},
   "outputs": [],
   "source": []
  },
  {
   "cell_type": "code",
   "execution_count": null,
   "metadata": {},
   "outputs": [],
   "source": []
  },
  {
   "cell_type": "code",
   "execution_count": null,
   "metadata": {},
   "outputs": [],
   "source": []
  },
  {
   "cell_type": "code",
   "execution_count": null,
   "metadata": {},
   "outputs": [],
   "source": []
  }
 ],
 "metadata": {
  "kernelspec": {
   "display_name": "Python 3",
   "language": "python",
   "name": "python3"
  },
  "language_info": {
   "codemirror_mode": {
    "name": "ipython",
    "version": 3
   },
   "file_extension": ".py",
   "mimetype": "text/x-python",
   "name": "python",
   "nbconvert_exporter": "python",
   "pygments_lexer": "ipython3",
   "version": "3.8.5"
  },
  "toc": {
   "base_numbering": 1,
   "nav_menu": {},
   "number_sections": true,
   "sideBar": true,
   "skip_h1_title": false,
   "title_cell": "Table of Contents",
   "title_sidebar": "Contents",
   "toc_cell": false,
   "toc_position": {},
   "toc_section_display": true,
   "toc_window_display": false
  },
  "varInspector": {
   "cols": {
    "lenName": 16,
    "lenType": 16,
    "lenVar": 40
   },
   "kernels_config": {
    "python": {
     "delete_cmd_postfix": "",
     "delete_cmd_prefix": "del ",
     "library": "var_list.py",
     "varRefreshCmd": "print(var_dic_list())"
    },
    "r": {
     "delete_cmd_postfix": ") ",
     "delete_cmd_prefix": "rm(",
     "library": "var_list.r",
     "varRefreshCmd": "cat(var_dic_list()) "
    }
   },
   "types_to_exclude": [
    "module",
    "function",
    "builtin_function_or_method",
    "instance",
    "_Feature"
   ],
   "window_display": false
  }
 },
 "nbformat": 4,
 "nbformat_minor": 4
}
